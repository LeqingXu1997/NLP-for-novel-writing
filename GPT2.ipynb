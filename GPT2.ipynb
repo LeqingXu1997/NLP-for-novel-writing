{
 "cells": [
  {
   "cell_type": "code",
   "execution_count": null,
   "id": "2054999b",
   "metadata": {},
   "outputs": [],
   "source": [
    "#!pip install -q gpt_2_simple\n",
    "import gpt_2_simple as gpt2\n",
    "from datetime import datetime"
   ]
  },
  {
   "cell_type": "code",
   "execution_count": null,
   "id": "a9112ee7",
   "metadata": {},
   "outputs": [],
   "source": [
    "import tensorflow as tf\n",
    "\n",
    "tf.compat.v1.reset_default_graph()"
   ]
  },
  {
   "cell_type": "code",
   "execution_count": null,
   "id": "9c89d14c",
   "metadata": {},
   "outputs": [],
   "source": [
    "#gpt2.download_gpt2(model_name=\"345M\")"
   ]
  },
  {
   "cell_type": "code",
   "execution_count": null,
   "id": "e685edff",
   "metadata": {},
   "outputs": [],
   "source": [
    "file_name = \"chw_HD_replaced.txt\""
   ]
  },
  {
   "cell_type": "code",
   "execution_count": null,
   "id": "01d9b3a9",
   "metadata": {},
   "outputs": [],
   "source": [
    "!nvidia-smi"
   ]
  },
  {
   "cell_type": "code",
   "execution_count": null,
   "id": "9fe4bf49",
   "metadata": {},
   "outputs": [],
   "source": [
    "import tensorflow as tf\n",
    "\n",
    "tf.compat.v1.reset_default_graph()\n",
    "sess = gpt2.start_tf_sess()\n",
    "\n",
    "gpt2.finetune(sess,\n",
    "              dataset=file_name,\n",
    "              model_name='345M',\n",
    "              steps=1000,\n",
    "              restore_from='fresh',\n",
    "              print_every=10,\n",
    "              sample_every=200,\n",
    "              save_every=500\n",
    "              )"
   ]
  },
  {
   "cell_type": "code",
   "execution_count": null,
   "id": "2bebcacf",
   "metadata": {},
   "outputs": [],
   "source": [
    "sess = gpt2.start_tf_sess()\n",
    "gpt2.load_gpt2(sess)"
   ]
  },
  {
   "cell_type": "code",
   "execution_count": null,
   "id": "d4ad468a",
   "metadata": {},
   "outputs": [],
   "source": [
    "#gpt2.generate(sess) #non-conditional generate"
   ]
  },
  {
   "cell_type": "code",
   "execution_count": null,
   "id": "84229d26",
   "metadata": {},
   "outputs": [],
   "source": [
    "gpt2.generate(sess,\n",
    "              length=250,\n",
    "              temperature=0.7,\n",
    "              prefix=\"Humpty Dumpty sat on the wall\",\n",
    "              nsamples=5,\n",
    "              batch_size=5,\n",
    "              top_k=40\n",
    "              )"
   ]
  }
 ],
 "metadata": {
  "kernelspec": {
   "display_name": "Python 3 (ipykernel)",
   "language": "python",
   "name": "python3"
  },
  "language_info": {
   "codemirror_mode": {
    "name": "ipython",
    "version": 3
   },
   "file_extension": ".py",
   "mimetype": "text/x-python",
   "name": "python",
   "nbconvert_exporter": "python",
   "pygments_lexer": "ipython3",
   "version": "3.9.6"
  },
  "varInspector": {
   "cols": {
    "lenName": 16,
    "lenType": 16,
    "lenVar": 40
   },
   "kernels_config": {
    "python": {
     "delete_cmd_postfix": "",
     "delete_cmd_prefix": "del ",
     "library": "var_list.py",
     "varRefreshCmd": "print(var_dic_list())"
    },
    "r": {
     "delete_cmd_postfix": ") ",
     "delete_cmd_prefix": "rm(",
     "library": "var_list.r",
     "varRefreshCmd": "cat(var_dic_list()) "
    }
   },
   "types_to_exclude": [
    "module",
    "function",
    "builtin_function_or_method",
    "instance",
    "_Feature"
   ],
   "window_display": false
  }
 },
 "nbformat": 4,
 "nbformat_minor": 5
}
