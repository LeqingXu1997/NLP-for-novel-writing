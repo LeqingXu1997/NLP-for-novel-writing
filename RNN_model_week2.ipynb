{
  "nbformat": 4,
  "nbformat_minor": 0,
  "metadata": {
    "colab": {
      "name": "RNN model week2.ipynb",
      "provenance": [],
      "collapsed_sections": []
    },
    "kernelspec": {
      "name": "python3",
      "display_name": "Python 3"
    },
    "language_info": {
      "name": "python"
    }
  },
  "cells": [
    {
      "cell_type": "code",
      "metadata": {
        "id": "TY-GA0UQAWgs",
        "colab": {
          "base_uri": "https://localhost:8080/"
        },
        "outputId": "4f01db59-6711-45bc-c411-1f648f0a2420"
      },
      "source": [
        "#pip install tensorflow==2.4.0"
      ],
      "execution_count": null,
      "outputs": [
        {
          "output_type": "stream",
          "name": "stdout",
          "text": [
            "Collecting tensorflow==2.4.0\n",
            "  Downloading tensorflow-2.4.0-cp37-cp37m-manylinux2010_x86_64.whl (394.7 MB)\n",
            "\u001b[K     |████████████████████████████████| 394.7 MB 15 kB/s \n",
            "\u001b[?25hRequirement already satisfied: astunparse~=1.6.3 in /usr/local/lib/python3.7/dist-packages (from tensorflow==2.4.0) (1.6.3)\n",
            "Requirement already satisfied: keras-preprocessing~=1.1.2 in /usr/local/lib/python3.7/dist-packages (from tensorflow==2.4.0) (1.1.2)\n",
            "Requirement already satisfied: protobuf>=3.9.2 in /usr/local/lib/python3.7/dist-packages (from tensorflow==2.4.0) (3.17.3)\n",
            "Requirement already satisfied: six~=1.15.0 in /usr/local/lib/python3.7/dist-packages (from tensorflow==2.4.0) (1.15.0)\n",
            "Collecting grpcio~=1.32.0\n",
            "  Downloading grpcio-1.32.0-cp37-cp37m-manylinux2014_x86_64.whl (3.8 MB)\n",
            "\u001b[K     |████████████████████████████████| 3.8 MB 24.2 MB/s \n",
            "\u001b[?25hRequirement already satisfied: absl-py~=0.10 in /usr/local/lib/python3.7/dist-packages (from tensorflow==2.4.0) (0.12.0)\n",
            "Requirement already satisfied: numpy~=1.19.2 in /usr/local/lib/python3.7/dist-packages (from tensorflow==2.4.0) (1.19.5)\n",
            "Requirement already satisfied: google-pasta~=0.2 in /usr/local/lib/python3.7/dist-packages (from tensorflow==2.4.0) (0.2.0)\n",
            "Requirement already satisfied: typing-extensions~=3.7.4 in /usr/local/lib/python3.7/dist-packages (from tensorflow==2.4.0) (3.7.4.3)\n",
            "Requirement already satisfied: wheel~=0.35 in /usr/local/lib/python3.7/dist-packages (from tensorflow==2.4.0) (0.37.0)\n",
            "Requirement already satisfied: wrapt~=1.12.1 in /usr/local/lib/python3.7/dist-packages (from tensorflow==2.4.0) (1.12.1)\n",
            "Collecting gast==0.3.3\n",
            "  Downloading gast-0.3.3-py2.py3-none-any.whl (9.7 kB)\n",
            "Requirement already satisfied: opt-einsum~=3.3.0 in /usr/local/lib/python3.7/dist-packages (from tensorflow==2.4.0) (3.3.0)\n",
            "Collecting tensorflow-estimator<2.5.0,>=2.4.0rc0\n",
            "  Downloading tensorflow_estimator-2.4.0-py2.py3-none-any.whl (462 kB)\n",
            "\u001b[K     |████████████████████████████████| 462 kB 74.5 MB/s \n",
            "\u001b[?25hRequirement already satisfied: tensorboard~=2.4 in /usr/local/lib/python3.7/dist-packages (from tensorflow==2.4.0) (2.6.0)\n",
            "Requirement already satisfied: flatbuffers~=1.12.0 in /usr/local/lib/python3.7/dist-packages (from tensorflow==2.4.0) (1.12)\n",
            "Collecting h5py~=2.10.0\n",
            "  Downloading h5py-2.10.0-cp37-cp37m-manylinux1_x86_64.whl (2.9 MB)\n",
            "\u001b[K     |████████████████████████████████| 2.9 MB 19.3 MB/s \n",
            "\u001b[?25hRequirement already satisfied: termcolor~=1.1.0 in /usr/local/lib/python3.7/dist-packages (from tensorflow==2.4.0) (1.1.0)\n",
            "Requirement already satisfied: requests<3,>=2.21.0 in /usr/local/lib/python3.7/dist-packages (from tensorboard~=2.4->tensorflow==2.4.0) (2.23.0)\n",
            "Requirement already satisfied: tensorboard-plugin-wit>=1.6.0 in /usr/local/lib/python3.7/dist-packages (from tensorboard~=2.4->tensorflow==2.4.0) (1.8.0)\n",
            "Requirement already satisfied: werkzeug>=0.11.15 in /usr/local/lib/python3.7/dist-packages (from tensorboard~=2.4->tensorflow==2.4.0) (1.0.1)\n",
            "Requirement already satisfied: google-auth<2,>=1.6.3 in /usr/local/lib/python3.7/dist-packages (from tensorboard~=2.4->tensorflow==2.4.0) (1.35.0)\n",
            "Requirement already satisfied: setuptools>=41.0.0 in /usr/local/lib/python3.7/dist-packages (from tensorboard~=2.4->tensorflow==2.4.0) (57.4.0)\n",
            "Requirement already satisfied: tensorboard-data-server<0.7.0,>=0.6.0 in /usr/local/lib/python3.7/dist-packages (from tensorboard~=2.4->tensorflow==2.4.0) (0.6.1)\n",
            "Requirement already satisfied: markdown>=2.6.8 in /usr/local/lib/python3.7/dist-packages (from tensorboard~=2.4->tensorflow==2.4.0) (3.3.4)\n",
            "Requirement already satisfied: google-auth-oauthlib<0.5,>=0.4.1 in /usr/local/lib/python3.7/dist-packages (from tensorboard~=2.4->tensorflow==2.4.0) (0.4.6)\n",
            "Requirement already satisfied: pyasn1-modules>=0.2.1 in /usr/local/lib/python3.7/dist-packages (from google-auth<2,>=1.6.3->tensorboard~=2.4->tensorflow==2.4.0) (0.2.8)\n",
            "Requirement already satisfied: rsa<5,>=3.1.4 in /usr/local/lib/python3.7/dist-packages (from google-auth<2,>=1.6.3->tensorboard~=2.4->tensorflow==2.4.0) (4.7.2)\n",
            "Requirement already satisfied: cachetools<5.0,>=2.0.0 in /usr/local/lib/python3.7/dist-packages (from google-auth<2,>=1.6.3->tensorboard~=2.4->tensorflow==2.4.0) (4.2.4)\n",
            "Requirement already satisfied: requests-oauthlib>=0.7.0 in /usr/local/lib/python3.7/dist-packages (from google-auth-oauthlib<0.5,>=0.4.1->tensorboard~=2.4->tensorflow==2.4.0) (1.3.0)\n",
            "Requirement already satisfied: importlib-metadata in /usr/local/lib/python3.7/dist-packages (from markdown>=2.6.8->tensorboard~=2.4->tensorflow==2.4.0) (4.8.1)\n",
            "Requirement already satisfied: pyasn1<0.5.0,>=0.4.6 in /usr/local/lib/python3.7/dist-packages (from pyasn1-modules>=0.2.1->google-auth<2,>=1.6.3->tensorboard~=2.4->tensorflow==2.4.0) (0.4.8)\n",
            "Requirement already satisfied: chardet<4,>=3.0.2 in /usr/local/lib/python3.7/dist-packages (from requests<3,>=2.21.0->tensorboard~=2.4->tensorflow==2.4.0) (3.0.4)\n",
            "Requirement already satisfied: certifi>=2017.4.17 in /usr/local/lib/python3.7/dist-packages (from requests<3,>=2.21.0->tensorboard~=2.4->tensorflow==2.4.0) (2021.5.30)\n",
            "Requirement already satisfied: idna<3,>=2.5 in /usr/local/lib/python3.7/dist-packages (from requests<3,>=2.21.0->tensorboard~=2.4->tensorflow==2.4.0) (2.10)\n",
            "Requirement already satisfied: urllib3!=1.25.0,!=1.25.1,<1.26,>=1.21.1 in /usr/local/lib/python3.7/dist-packages (from requests<3,>=2.21.0->tensorboard~=2.4->tensorflow==2.4.0) (1.24.3)\n",
            "Requirement already satisfied: oauthlib>=3.0.0 in /usr/local/lib/python3.7/dist-packages (from requests-oauthlib>=0.7.0->google-auth-oauthlib<0.5,>=0.4.1->tensorboard~=2.4->tensorflow==2.4.0) (3.1.1)\n",
            "Requirement already satisfied: zipp>=0.5 in /usr/local/lib/python3.7/dist-packages (from importlib-metadata->markdown>=2.6.8->tensorboard~=2.4->tensorflow==2.4.0) (3.6.0)\n",
            "Installing collected packages: grpcio, tensorflow-estimator, h5py, gast, tensorflow\n",
            "  Attempting uninstall: grpcio\n",
            "    Found existing installation: grpcio 1.41.0\n",
            "    Uninstalling grpcio-1.41.0:\n",
            "      Successfully uninstalled grpcio-1.41.0\n",
            "  Attempting uninstall: tensorflow-estimator\n",
            "    Found existing installation: tensorflow-estimator 2.6.0\n",
            "    Uninstalling tensorflow-estimator-2.6.0:\n",
            "      Successfully uninstalled tensorflow-estimator-2.6.0\n",
            "  Attempting uninstall: h5py\n",
            "    Found existing installation: h5py 3.1.0\n",
            "    Uninstalling h5py-3.1.0:\n",
            "      Successfully uninstalled h5py-3.1.0\n",
            "  Attempting uninstall: gast\n",
            "    Found existing installation: gast 0.4.0\n",
            "    Uninstalling gast-0.4.0:\n",
            "      Successfully uninstalled gast-0.4.0\n",
            "  Attempting uninstall: tensorflow\n",
            "    Found existing installation: tensorflow 2.6.0\n",
            "    Uninstalling tensorflow-2.6.0:\n",
            "      Successfully uninstalled tensorflow-2.6.0\n",
            "Successfully installed gast-0.3.3 grpcio-1.32.0 h5py-2.10.0 tensorflow-2.4.0 tensorflow-estimator-2.4.0\n"
          ]
        }
      ]
    },
    {
      "cell_type": "code",
      "metadata": {
        "colab": {
          "base_uri": "https://localhost:8080/"
        },
        "id": "GdK4KU60AZbc",
        "outputId": "49033a99-a019-4eac-8079-11865e90a453"
      },
      "source": [
        "import tensorflow as tf\n",
        "print(tf.__version__) # Check tensorflow version."
      ],
      "execution_count": null,
      "outputs": [
        {
          "output_type": "stream",
          "name": "stdout",
          "text": [
            "2.4.0\n"
          ]
        }
      ]
    },
    {
      "cell_type": "code",
      "metadata": {
        "id": "o50_o4psAc1t"
      },
      "source": [
        "import tensorflow as tf\n",
        "\n",
        "from tensorflow.keras.preprocessing.sequence import pad_sequences\n",
        "from tensorflow.keras.layers import Embedding, LSTM, Dense, Bidirectional\n",
        "from tensorflow.keras.preprocessing.text import Tokenizer\n",
        "from tensorflow.keras.models import Sequential\n",
        "from tensorflow.keras.optimizers import Adam\n",
        "import numpy as np "
      ],
      "execution_count": null,
      "outputs": []
    },
    {
      "cell_type": "code",
      "metadata": {
        "colab": {
          "base_uri": "https://localhost:8080/"
        },
        "id": "5q18xcDeAfue",
        "outputId": "32558995-14de-49ae-ba5f-0006eb31d66e"
      },
      "source": [
        "tokenizer = Tokenizer()\n",
        "\n",
        "data = open('/content/chw_HD_replaced.txt').read() # Read the training data I upload.\n",
        "\n",
        "corpus = data.lower().split(\"\\n\") # Define corpus\n",
        "\n",
        "tokenizer.fit_on_texts(corpus) # Updates internal vocabulary based on a list of texts, creates the vocabulary index based on word frequency.\n",
        "total_words = len(tokenizer.word_index) + 1 # Length of total words appered in this data.\n",
        "\n",
        "print(tokenizer.word_index)\n",
        "print(total_words)"
      ],
      "execution_count": null,
      "outputs": [
        {
          "output_type": "stream",
          "name": "stdout",
          "text": [
            "{'the': 1, 'and': 2, 'to': 3, 'a': 4, 'of': 5, 'he': 6, 'in': 7, 'humpty': 8, 'i': 9, 'dumpty': 10, 'was': 11, 'said': 12, 'you': 13, 'it': 14, 'his': 15, 'she': 16, 'that': 17, 'charlotte': 18, 'her': 19, 'on': 20, 'is': 21, 'for': 22, 'at': 23, 'with': 24, 'fern': 25, 'out': 26, 'pig': 27, 'up': 28, 'as': 29, 'had': 30, 'zuckerman': 31, 'all': 32, 'when': 33, 'into': 34, 'him': 35, 'be': 36, 'this': 37, 'web': 38, 'mr': 39, 'what': 40, 'then': 41, 'have': 42, 'but': 43, 'my': 44, 'down': 45, 'mrs': 46, 'they': 47, 'would': 48, 'from': 49, 'arable': 50, 'about': 51, \"don't\": 52, 'not': 53, 'so': 54, 'there': 55, 'one': 56, 'me': 57, 'asked': 58, 'good': 59, 'templeton': 60, \"i'm\": 61, 'are': 62, 'were': 63, 'see': 64, 'no': 65, 'avery': 66, 'lurvy': 67, 'will': 68, 'do': 69, 'your': 70, 'just': 71, 'can': 72, 'time': 73, 'if': 74, 'over': 75, 'go': 76, 'goose': 77, 'back': 78, 'barn': 79, 'very': 80, \"it's\": 81, 'now': 82, 'rat': 83, 'like': 84, 'sheep': 85, 'by': 86, 'think': 87, \"dumpty's\": 88, 'an': 89, 'get': 90, 'going': 91, 'day': 92, 'here': 93, 'spider': 94, 'got': 95, 'old': 96, 'well': 97, 'know': 98, 'right': 99, 'came': 100, 'little': 101, 'look': 102, 'around': 103, 'replied': 104, 'them': 105, 'how': 106, 'never': 107, 'has': 108, 'could': 109, 'heard': 110, \"he's\": 111, 'some': 112, 'fair': 113, 'come': 114, 'egg': 115, 'we': 116, 'who': 117, 'too': 118, 'crate': 119, 'any': 120, 'their': 121, 'voice': 122, 'eyes': 123, 'went': 124, 'looked': 125, 'again': 126, 'want': 127, 'please': 128, 'straw': 129, 'after': 130, 'morning': 131, 'head': 132, 'did': 133, \"didn't\": 134, 'away': 135, 'life': 136, 'children': 137, 'way': 138, 'cried': 139, 'been': 140, 'walked': 141, 'air': 142, 'made': 143, \"can't\": 144, 'night': 145, 'more': 146, 'under': 147, 'off': 148, 'nothing': 149, 'first': 150, 'while': 151, \"you're\": 152, 'still': 153, 'through': 154, 'oh': 155, 'trough': 156, 'truck': 157, 'place': 158, 'sleep': 159, 'friend': 160, 'felt': 161, 'yes': 162, 'sac': 163, 'along': 164, 'thing': 165, 'ever': 166, 'himself': 167, 'where': 168, 'next': 169, 'knew': 170, 'something': 171, 'people': 172, 'mother': 173, 'than': 174, 'took': 175, 'another': 176, 'climbed': 177, 'days': 178, 'long': 179, 'work': 180, 'make': 181, 'or': 182, 'lay': 183, \"i'll\": 184, 'home': 185, 'new': 186, 'stood': 187, 'pigpen': 188, 'say': 189, 'last': 190, 'put': 191, 'let': 192, 'tell': 193, 'began': 194, \"charlotte's\": 195, 'only': 196, \"that's\": 197, 'pen': 198, 'thought': 199, 'saw': 200, 'eggs': 201, 'am': 202, 'why': 203, 'anything': 204, 'almost': 205, 'warm': 206, 'two': 207, 'yard': 208, 'much': 209, 'spiders': 210, 'breakfast': 211, \"couldn't\": 212, 'fish': 213, 'everything': 214, 'everybody': 215, 'left': 216, 'slowly': 217, 'take': 218, 'other': 219, 'eat': 220, 'milk': 221, 'top': 222, 'front': 223, 'animals': 224, 'things': 225, 'side': 226, 'toward': 227, 'word': 228, 'small': 229, 'run': 230, 'world': 231, 'soon': 232, 'live': 233, 'quite': 234, 'big': 235, 'food': 236, 'bam': 237, 'cellar': 238, 'geese': 239, 'fence': 240, 'pail': 241, 'even': 242, 'ran': 243, 'being': 244, 'every': 245, 'stand': 246, 'watch': 247, 'tired': 248, 'water': 249, 'happy': 250, 'always': 251, 'quiet': 252, 'better': 253, 'really': 254, 'words': 255, 'bee': 256, 'sat': 257, 'herself': 258, 'afternoon': 259, 'great': 260, 'feel': 261, 'sure': 262, 'stared': 263, 'before': 264, 'keep': 265, 'ate': 266, 'goslings': 267, 'many': 268, 'worry': 269, 'eight': 270, 'looking': 271, 'seemed': 272, \"you'll\": 273, 'hour': 274, 'its': 275, 'bed': 276, 'few': 277, 'apple': 278, 'noticed': 279, 'friends': 280, 'coming': 281, 'legs': 282, 'called': 283, 'end': 284, \"i've\": 285, 'stop': 286, 'frog': 287, 'terrific': 288, 'radiant': 289, 'mean': 290, 'help': 291, 'most': 292, 'house': 293, 'inside': 294, 'thinking': 295, 'near': 296, 'full': 297, 'does': 298, 'enough': 299, 'manure': 300, 'smell': 301, 'summer': 302, 'ground': 303, 'screamed': 304, 'gander': 305, 'hard': 306, 'grew': 307, 'three': 308, 'without': 309, 'hear': 310, 'must': 311, 'talk': 312, \"what's\": 313, 'early': 314, 'jumped': 315, 'bye': 316, 'edith': 317, 'cows': 318, \"zuckerman's\": 319, 'attention': 320, 'seven': 321, \"'\": 322, 'course': 323, 'true': 324, 'our': 325, 'us': 326, 'round': 327, 'tail': 328, 'tried': 329, 'ears': 330, 'fine': 331, 'mind': 332, 'wheel': 333, 'homer': 334, 'wonderful': 335, 'find': 336, 'play': 337, 'quietly': 338, 'catch': 339, 'alone': 340, 'watched': 341, 'asleep': 342, 'loud': 343, 'comes': 344, \"spider's\": 345, 'spin': 346, 'deep': 347, 'die': 348, 'stopped': 349, 'kitchen': 350, 'tiny': 351, 'closed': 352, \"let's\": 353, 'gave': 354, 'each': 355, 'cold': 356, 'stay': 357, 'spring': 358, 'sweet': 359, 'though': 360, 'young': 361, 'guess': 362, 'men': 363, 'behind': 364, 'slops': 365, 'rain': 366, 'flies': 367, 'gone': 368, 'threw': 369, 'feet': 370, 'across': 371, 'nobody': 372, 'understand': 373, 'miracle': 374, 'cousin': 375, 'henry': 376, 'crowd': 377, 'pigs': 378, 'kill': 379, 'because': 380, 'love': 381, 'ready': 382, 'half': 383, 'whispered': 384, 'beautiful': 385, 'name': 386, 'doorway': 387, 'door': 388, 'these': 389, 'means': 390, 'five': 391, 'uncle': 392, 'says': 393, 'whole': 394, 'need': 395, 'stool': 396, 'sitting': 397, \"there's\": 398, 'woods': 399, 'piece': 400, 'farm': 401, 'bit': 402, 'line': 403, 'sky': 404, 'fly': 405, 'happened': 406, 'song': 407, 'making': 408, 'best': 409, 'spoke': 410, 'evening': 411, 'clean': 412, 'buttermilk': 413, 'smelled': 414, \"fern's\": 415, 'bottle': 416, 'may': 417, 'moment': 418, 'give': 419, \"won't\": 420, 'till': 421, 'rope': 422, 'empty': 423, 'kind': 424, 'part': 425, 'told': 426, 'started': 427, 'believe': 428, 'try': 429, 'sorry': 430, 'planned': 431, 'seen': 432, 'crept': 433, 'appeared': 434, 'shall': 435, 'dropped': 436, 'crickets': 437, 'idea': 438, 'heart': 439, 'pay': 440, 'save': 441, 'dr': 442, 'swing': 443, 'dump': 444, 'dorian': 445, 'pushed': 446, 'grass': 447, 'hands': 448, 'saved': 449, 'school': 450, 'road': 451, 'tree': 452, 'crawled': 453, 'fun': 454, 'should': 455, 'hay': 456, 'horses': 457, 'sun': 458, 'feeling': 459, 'less': 460, 'wrong': 461, 'dirty': 462, 'board': 463, 'lambs': 464, 'cheered': 465, 'nose': 466, 'pulled': 467, 'grey': 468, 'thread': 469, 'year': 470, 'show': 471, 'glad': 472, 'maybe': 473, 'broken': 474, 'busy': 475, 'double': 476, 'ferris': 477, 'speaker': 478, 'father': 479, 'wet': 480, 'hand': 481, 'bring': 482, 'baby': 483, 'returned': 484, 'carried': 485, 'against': 486, 'found': 487, 'minute': 488, 'loved': 489, 'getting': 490, 'liked': 491, 'zuckermans': 492, 'money': 493, 'wanted': 494, 'pile': 495, 'winter': 496, 'standing': 497, 'rather': 498, 'jump': 499, 'strong': 500, 'spread': 501, 'animal': 502, 'done': 503, 'kept': 504, 'pleasant': 505, 'four': 506, 'wil\\x02bur': 507, 'pretty': 508, 'sign': 509, 'lot': 510, 'high': 511, 't': 512, 'wind': 513, \"isn't\": 514, \"''\": 515, 'low': 516, 'climb': 517, 'string': 518, 'sang': 519, 'might': 520, 'together': 521, 'arables': 522, 'hundred': 523, 'caught': 524, 'yourself': 525, 'f': 526, 'em': 527, 'trouble': 528, 'face': 529, 'set': 530, 'lifted': 531, 'white': 532, 'held': 533, 'call': 534, 'bus': 535, 'trying': 536, 'happen': 537, 'gets': 538, 'grabbed': 539, 'carrying': 540, 'turn': 541, 'wait': 542, 'followed': 543, 'bad': 544, 'sit': 545, 'loose': 546, 'shouted': 547, \"pig's\": 548, \"doesn't\": 549, 'same': 550, 'fall': 551, 'stomach': 552, 'hole': 553, 'dark': 554, 'talking': 555, 'such': 556, 'corner': 557, 'nice': 558, 'bugs': 559, \"wouldn't\": 560, 'perhaps': 561, 'thank': 562, 'everyone': 563, 'temple\\x02ton': 564, 'worried': 565, 'worked': 566, 'char\\x02lotte': 567, 'shook': 568, 'hung': 569, 'leave': 570, 'far': 571, 'hair': 572, 'hot': 573, 'writing': 574, 'car': 575, 'attach': 576, 'bath': 577, 'decided': 578, 'others': 579, 'yelled': 580, 'tears': 581, 'start': 582, 'room': 583, 'light': 584, 'opened': 585, \"she's\": 586, 'until': 587, 'tied': 588, 'box': 589, 'moved': 590, 'walk': 591, 'pleased': 592, 'finished': 593, 'snout': 594, 'tunnel': 595, 'bottom': 596, 'blanket': 597, 'already': 598, 'visit': 599, 'often': 600, 'ask': 601, 'six': 602, 'build': 603, 'arrived': 604, 'lunch': 605, 'man': 606, 'own': 607, 'twist': 608, 'trick': 609, 'stick': 610, 'fell': 611, 'second': 612, 'used': 613, 'hardly': 614, 'eating': 615, 'hungry': 616, 'thin': 617, \"aren't\": 618, 'sound': 619, 'ceiling': 620, 'disgust': 621, 'repeated': 622, 'size': 623, 'move': 624, 'meeting': 625, 'visited': 626, 'knows': 627, 'bright': 628, 'rotten': 629, 'anybody': 630, 'weight': 631, 'mouth': 632, 'webs': 633, 'hang': 634, 'begged': 635, 'stayed': 636, 'dead': 637, 'county': 638, 'sailed': 639, 'blue': 640, 'pasture': 641, 'picked': 642, 'lost': 643, 'lines': 644, 'dozens': 645, 'special': 646, 'write': 647, 'balloon': 648, 'doctor': 649, 'boys': 650, 'fussy': 651, 'prize': 652, 'grounds': 653, 'continued': 654, 'weak': 655, 'anyway': 656, 'chair': 657, 'outdoors': 658, 'earth': 659, 'walking': 660, 'myself': 661, 'crying': 662, 'yours': 663, 'carefully': 664, 'bigger': 665, 'drink': 666, 'poured': 667, 'floor': 668, 'knees': 669, 'although': 670, 'weeks': 671, 'drop': 672, 'doll': 673, 'close': 674, 'which': 675, 'longer': 676, 'suggested': 677, 'wide': 678, 'below': 679, 'l': 680, 'during': 681, 'watching': 682, 'lonely': 683, 'sniffed': 684, 'potato': 685, 'free': 686, \"i'd\": 687, 'easy': 688, 'news': 689, 'instead': 690, 'center': 691, 'dancing': 692, 'care': 693, 'barnyard': 694, 'bits': 695, 'drops': 696, 'cheese': 697, 'perfectly': 698, 'suddenly': 699, 'real': 700, 'hatch': 701, 'lamb': 702, 'those': 703, 'hiding': 704, 'wall': 705, 'somebody': 706, 'shadows': 707, 'nest': 708, 'today': 709, 'kindly': 710, 'rest': 711, 'rushed': 712, 'salutations': 713, 'meals': 714, 'brought': 715, 'poked': 716, 'green': 717, 'throw': 718, 'dreaming': 719, \"they're\": 720, 'grinned': 721, 'proud': 722, 'cheer': 723, 'sighed': 724, 'dry': 725, 'middle': 726, 'miles': 727, 'boy': 728, 'once': 729, 'famous': 730, 'thrashing': 731, 'neck': 732, 'humble': 733, 'grandstand': 734, 'medal': 735, 'ring': 736, 'ax': 737, 'born': 738, 'death': 739, 'hold': 740, 'certainly': 741, 'girl': 742, 'hanging': 743, 'later': 744, 'upstairs': 745, 'bacon': 746, 'noise': 747, 'kissed': 748, 'ten': 749, 'wooden': 750, 'comer': 751, 'between': 752, 'blushed': 753, 'large': 754, 'cut': 755, 'grunted': 756, 'disappeared': 757, 'sight': 758, 'sometimes': 759, 'edge': 760, 'peaceful': 761, \"you've\": 762, 'talked': 763, 'breath': 764, 'grain': 765, 'overhead': 766, 'indoors': 767, 'snow': 768, 'swallows': 769, 'outside': 770, 'wandered': 771, 'rubbed': 772, 'living': 773, 'chuckled': 774, 'orchard': 775, 'zucker\\x02man': 776, 'rush': 777, 'leg': 778, 'listen': 779, 'holding': 780, 'delicious': 781, 'lane': 782, 'plans': 783, 'nine': 784, 'supper': 785, 'weather': 786, 'whiskers': 787, \"haven't\": 788, \"rat's\": 789, 'sharp': 790, 'else': 791, 'late': 792, 'woke': 793, 'some\\x02thing': 794, \"templeton's\": 795, 'teeth': 796, 'suppose': 797, 'saying': 798, 'finally': 799, 'break': 800, 'lovely': 801, 'repeat': 802, 'hurry': 803, 'hello': 804, 'stretched': 805, 'indeed': 806, 'silk': 807, 'rolled': 808, 'blood': 809, 'sad': 810, 'spinning': 811, 'clever': 812, 'conversation': 813, 'heat': 814, 'grow': 815, 'seat': 816, 'drove': 817, 'child': 818, 'bug': 819, 'except': 820, 'announcement': 821, 'point': 822, 'ham': 823, 'every\\x02body': 824, 'however': 825, 'softly': 826, 'raced': 827, 'spinnerets': 828, 'passed': 829, 'strength': 830, 'working': 831, 'pie': 832, 'tight': 833, 'wild': 834, 'story': 835, 'several': 836, 'letters': 837, 'zuckennan': 838, 'smooth': 839, \"zuckermans'\": 840, 'eye': 841, \"we're\": 842, 'tomorrow': 843, 'action': 844, \"how's\": 845, 'soap': 846, 'wildly': 847, 'frogs': 848, 'won': 849, 'seem': 850, 'change': 851, 'midway': 852, 'frozen': 853, 'struggle': 854, 'fourteen': 855, 'tag': 856, 'waved': 857, 'joy': 858, 'setting': 859, 'table': 860, 'runt': 861, 'probably': 862, 'springtime': 863, 'learn': 864, 'matter': 865, 'killed': 866, 'daughter': 867, 'queer': 868, 'john': 869, 'red': 870, 'pink': 871, 'window': 872, 'reached': 873, 'feed': 874, 'age': 875, 'short': 876, 'completely': 877, 'relieved': 878, 'shut': 879, 'brook': 880, 'wann': 881, 'sticky': 882, 'simply': 883, 'broke': 884, 'taken': 885, 'whenever': 886, 'cool': 887, 'open': 888, 'sheepfold': 889, 'underneath': 890, 'placed': 891, 'listening': 892, 'lived': 893, 'strip': 894, 'skin': 895, 'boards': 896, 'push': 897, 'actually': 898, 'anywhere': 899, 'dig': 900, 'smells': 901, 'immediately': 902, 'downhill': 903, \"they'll\": 904, 'spaniel': 905, \"wasn't\": 906, 'creature': 907, 'cow': 908, 'happening': 909, 'awful': 910, 'nicely': 911, 'wheat': 912, 'middlings': 913, 'stepped': 914, \"he'll\": 915, 'leftover': 916, 'interesting': 917, 'nap': 918, 'buried': 919, 'dirt': 920, 'clover': 921, 'answer': 922, 'cannot': 923, 'listened': 924, 'merry': 925, 'spend': 926, 'since': 927, 'usually': 928, 'slept': 929, 'settled': 930, 'sounds': 931, 'waiting': 932, 'everywhere': 933, 'speak': 934, 'clearly': 935, 'threads': 936, 'remarked': 937, 'perfect': 938, 'intend': 939, 'insects': 940, 'body': 941, 'soft': 942, 'excitement': 943, 'smelling': 944, 'trees': 945, 'pocket': 946, 'sparrow': 947, 'calls': 948, 'plenty': 949, 'loaded': 950, 'ice': 951, 'hatched': 952, 'calling': 953, 'gosling': 954, 'showed': 955, 'roll': 956, 'unusual': 957, 'both': 958, 'muttered': 959, 'regular': 960, 'doing': 961, 'managed': 962, 'plan': 963, 'also': 964, 'lie': 965, 'snapped': 966, 'sunday': 967, 'none': 968, 'stuck': 969, 'speech': 970, 'weaving': 971, 'o': 972, 'k': 973, 'landed': 974, 'crouched': 975, 'needed': 976, 'single': 977, 'chance': 978, 'remember': 979, 'remembered': 980, 'trembling': 981, 'yet': 982, 'race': 983, 'promise': 984, 'future': 985, 'kicked': 986, 'onto': 987, 'begin': 988, 'turned': 989, 'raspberry': 990, 'candy': 991, 'filled': 992, 'third': 993, 'paper': 994, 'leaving': 995, 'woven': 996, 'message': 997, 'exactly': 998, 'pointed': 999, 'steady': 1000, 'ordinary': 1001, 'clear': 1002, 'reading': 1003, 'extra': 1004, 'explained': 1005, 'minister': 1006, 'read': 1007, 'visitors': 1008, 'aa': 1009, 'answered': 1010, 'sick': 1011, 'rich': 1012, \"'terrific'\": 1013, 'clipping': 1014, 'magazine': 1015, 'trip': 1016, 'building': 1017, 'showing': 1018, 'possible': 1019, 'forever': 1020, 'nights': 1021, 'win': 1022, 'gathered': 1023, 'faces': 1024, 'fainted': 1025, 'music': 1026, 'blew': 1027, 'booth': 1028, 'jar': 1029, \"judges'\": 1030, 'hugged': 1031, 'gentlemen': 1032, 'nellie': 1033, 'needs': 1034, 'cream': 1035, 'yell': 1036, 'sobbed': 1037, 'gently': 1038, 'pull': 1039, 'makes': 1040, 'difference': 1041, 'cry': 1042, 'carton': 1043, 'changing': 1044, 'dried': 1045, 'towel': 1046, 'shone': 1047, 'turning': 1048, 'absolutely': 1049, 'miserable': 1050, 'rubber': 1051, 'appetite': 1052, 'quickly': 1053, 'honked': 1054, 'commanded': 1055, 'taking': 1056, 'slipping': 1057, 'doughnut': 1058, 'notice': 1059, 'entire': 1060, 'woodshed': 1061, 'fixed': 1062, 'sucked': 1063, 'poking': 1064, 'covered': 1065, 'waited': 1066, 'vanished': 1067, 'step': 1068, 'pick': 1069, 'played': 1070, 'sold': 1071, 'willing': 1072, 'dollars': 1073, 'aunt': 1074, 'hollered': 1075, 'spent': 1076, 'breeze': 1077, 'main': 1078, 'tie': 1079, 'pitch': 1080, 'nests': 1081, 'lower': 1082, 'discarded': 1083, 'months': 1084, 'usual': 1085, 'leaned': 1086, 'lying': 1087, 'fast': 1088, 'garden': 1089, 'skip': 1090, 'dance': 1091, 'shade': 1092, 'pushing': 1093, 'ho': 1094, 'racket': 1095, 'cocker': 1096, 'machine': 1097, 'shed': 1098, 'hired': 1099, 'drive': 1100, 'bucket': 1101, 'event': 1102, 'learned': 1103, 'stirred': 1104, 'rooster': 1105, 'skins': 1106, 'flakes': 1107, 'following': 1108, 'lazily': 1109, 'praise': 1110, 'sleepy': 1111, \"o'clock\": 1112, 'roof': 1113, 'skim': 1114, 'custard': 1115, 'eleven': 1116, 'bees': 1117, 'stale': 1118, 'scratch': 1119, 'awoke': 1120, 'bear': 1121, 'groaned': 1122, 'someone': 1123, 'limit': 1124, 'cautiously': 1125, 'eaten': 1126, \"hasn't\": 1127, 'touched': 1128, 'throat': 1129, 'cenainly': 1130, 'darkness': 1131, 'rattle': 1132, 'past': 1133, 'thirty': 1134, 'dreams': 1135, 'resting': 1136, 'examined': 1137, 'hated': 1138, 'addressed': 1139, 'touch': 1140, 'oldest': 1141, 'spoil': 1142, 'fancy': 1143, 'expression': 1144, 'surprised': 1145, 'waving': 1146, 'tangled': 1147, 'wings': 1148, 'itself': 1149, 'headfirst': 1150, 'rear': 1151, 'seeing': 1152, 'trapper': 1153, 'naturally': 1154, 'family': 1155, 'years': 1156, 'laying': 1157, 'bloodthirsty': 1158, 'cruel': 1159, 'raised': 1160, 'friendship': 1161, 'every\\x02thing': 1162, 'loyal': 1163, 'shower': 1164, 'peabody': 1165, 'important': 1166, 'anxious': 1167, 'congratulations': 1168, 'number': 1169, 'management': 1170, 'picking': 1171, 'beat': 1172, 'higher': 1173, 'account': 1174, 'stuff': 1175, 'died': 1176, 'led': 1177, 'pain': 1178, 'hours': 1179, 'seems': 1180, 'thoughtfully': 1181, 'throwing': 1182, \"who's\": 1183, 'remains': 1184, \"homer's\": 1185, 'terribly': 1186, 'nodded': 1187, 'vaguely': 1188, 'wiped': 1189, 'looks': 1190, 'strands': 1191, 'busily': 1192, 'goodness': 1193, 'takes': 1194, 'breathed': 1195, 'deeply': 1196, 'space': 1197, 'cheerfully': 1198, 'truly': 1199, 'whose': 1200, 'energy': 1201, 'hope': 1202, 'lack': 1203, 'creatures': 1204, 'bridge': 1205, 'sedentary': 1206, 'leaves': 1207, 'ahead': 1208, 'silent': 1209, 'ones': 1210, 'fear': 1211, 'serious': 1212, 'lose': 1213, 'fool': 1214, 'awake': 1215, 'north': 1216, 'hayloft': 1217, 'scared': 1218, 'dizzy': 1219, \"you'd\": 1220, 'tongue': 1221, 'purple': 1222, 'lift': 1223, 'swinging': 1224, 'closer': 1225, 'capture': 1226, 'vvilbur': 1227, 'delighted': 1228, 'wants': 1229, 'rats': 1230, 'noodle': 1231, 'staned': 1232, 'foggy': 1233, 'mornings': 1234, 'beauty': 1235, 'interested': 1236, 'neatly': 1237, 'harder': 1238, \"night's\": 1239, 'wife': 1240, 'sank': 1241, \"'some\": 1242, 'solid': 1243, 'clothes': 1244, 'doubt': 1245, 'fact': 1246, 'wondrous': 1247, 'bought': 1248, 'zuck\\x02erman': 1249, 'admiring': 1250, 'wore': 1251, 'forgot': 1252, 'twenty': 1253, 'therefore': 1254, 'ideas': 1255, 'remark': 1256, 'weave': 1257, 'tear': 1258, 'tem\\x02pleton': 1259, 'thanks': 1260, 'attached': 1261, 'helping': 1262, 'whoa': 1263, 'dew': 1264, 'bottles': 1265, 'tin': 1266, 'forgotten': 1267, 'ad': 1268, 'shirt': 1269, 'material': 1270, 'flip': 1271, 'stream': 1272, 'fin': 1273, 'dodging': 1274, 'hers': 1275, 'sing': 1276, 'dung': 1277, 'afraid': 1278, \"uncle's\": 1279, 'taught': 1280, 'grownups': 1281, 'mumbled': 1282, 'lays': 1283, 'dying': 1284, 'apples': 1285, 'carne': 1286, 'dream': 1287, 'freeze': 1288, \"avery's\": 1289, '1': 1290, 'buttennilk': 1291, 'lowered': 1292, 'infield': 1293, 'candied': 1294, 'gnawed': 1295, 'knothole': 1296, 'sideboards': 1297, 'motor': 1298, 'oink': 1299, 'dashed': 1300, 'heaved': 1301, 'ladies': 1302, 'enormous': 1303, 'unloaded': 1304, 'minutes': 1305, 'met': 1306, 'remarks': 1307, 'exploring': 1308, 'tonight': 1309, 'relief': 1310, 'invited': 1311, 'enjoy': 1312, 'distance': 1313, 'pass': 1314, 'gazed': 1315, 'reach': 1316, 'hundreds': 1317, 'safe': 1318, 'christmas': 1319, 'pond': 1320, 'balloons': 1321, 'aranea': 1322, 'grandchildren': 1323, \"where's\": 1324, 'papa': 1325, 'sneakers': 1326, 'unfair': 1327, 'control': 1328, 'cheeks': 1329, 'raising': 1330, 'litter': 1331, 'birth': 1332, 'smiled': 1333, 'different': 1334, 'terrible': 1335, 'injustice': 1336, \"arable's\": 1337, 'damp': 1338, 'wood': 1339, 'stove': 1340, 'sink': 1341, 'washed': 1342, 'lid': 1343, 'demanded': 1344, 'wash': 1345, 'gun': 1346, 'pop': 1347, 'daylight': 1348, 'rid': 1349, 'result': 1350, 'promptly': 1351, 'nipple': 1352, 'handed': 1353, 'seated': 1354, 'suck': 1355, 'lucky': 1356, 'dreamily': 1357, 'fed': 1358, 'suppertime': 1359, 'noontime': 1360, 'complained': 1361, 'specially': 1362, 'dug': 1363, 'follow': 1364, 'carriage': 1365, 'alongside': 1366, 'lashes': 1367, 'wake': 1368, 'waded': 1369, 'splashed': 1370, 'delightfully': 1371, 'farmers': 1372, 'sell': 1373, 'finn': 1374, \"wil\\x02bur's\": 1375, 'beginning': 1376, 'scraps': 1377, 'goes': 1378, 'arranged': 1379, 'patient': 1380, 'sort': 1381, 'boots': 1382, 'cat': 1383, 'loft': 1384, 'pitched': 1385, 'pleasantly': 1386, 'doors': 1387, 'stalls': 1388, 'ups': 1389, 'monkey': 1390, 'pails': 1391, 'buckets': 1392, 'rusty': 1393, 'owned': 1394, 'directly': 1395, 'com\\x02fonable': 1396, 'south': 1397, 'trusted': 1398, 'friendly': 1399, 'allow': 1400, 'bored': 1401, 'digging': 1402, 'vhen': 1403, 'root': 1404, 'corn': 1405, 'oats': 1406, 'plowed': 1407, 'commotion': 1408, 'asparagus': 1409, 'patch': 1410, 'pulling': 1411, 'escape': 1412, 'rapidly': 1413, 'among': 1414, 'interest': 1415, 'mothers': 1416, 'excited': 1417, 'penned': 1418, 'sneaking': 1419, 'dodge': 1420, 'sprang': 1421, 'dodged': 1422, \"lurvy's\": 1423, 'missed': 1424, 'uphill': 1425, 'dazed': 1426, 'frightened': 1427, 'fuss': 1428, 'instructions': 1429, 'giving': 1430, 'jumping': 1431, 'wished': 1432, 'com': 1433, 'popover': 1434, \"zuckennans'\": 1435, 'appetizing': 1436, 'freedom': 1437, 'worth': 1438, 'reconsider': 1439, 'paid': 1440, 'chewing': 1441, 'nailed': 1442, 'scratched': 1443, 'rubbing': 1444, 'itchy': 1445, 'rainy': 1446, 'steadily': 1447, 'windows': 1448, 'thiny': 1449, 'doughnuts': 1450, 'maple': 1451, 'sticking': 1452, 'possibly': 1453, 'twelve': 1454, 'lunchtime': 1455, 'meat': 1456, 'package': 1457, 'places': 1458, 'alive': 1459, 'sandwich': 1460, 'fried': 1461, 'potatoes': 1462, 'beautifully': 1463, 'gloomily': 1464, 'struck': 1465, 'inch': 1466, 'nowhere': 1467, 'friendless': 1468, 'stirring': 1469, 'budge': 1470, 'dumped': 1471, 'scraped': 1472, 'oasty': 1473, 'expecting': 1474, 'in\\x02terested': 1475, 'noth\\x02ing': 1476, 'sadly': 1477, 'avoid': 1478, 'sense': 1479, 'daytime': 1480, 'poke': 1481, 'worst': 1482, 'whether': 1483, 'noises': 1484, 'imagine': 1485, 'surprise': 1486, 'sounded': 1487, 'dozen': 1488, 'times': 1489, 'midnight': 1490, 'crazy': 1491, 'chuckling': 1492, 'obably': 1493, 'yawned': 1494, 'dawn': 1495, 'slight': 1496, 'fonh': 1497, 'calm': 1498, 'faint': 1499, 'stars': 1500, 'thoroughly': 1501, 'de\\x02cided': 1502, 'using': 1503, 'cleared': 1504, 'party': 1505, 'bedtime': 1506, 'known': 1507, 'heads': 1508, 'determined': 1509, 'nonsense': 1510, 'meekly': 1511, 'licked': 1512, 'spoken': 1513, 'meet': 1514, 'eagerly': 1515, 'wish': 1516, 'sighted': 1517, 'wrap': 1518, 'crawling': 1519, 'blundered': 1520, 'beating': 1521, 'wrapping': 1522, 'knock': 1523, 'choice': 1524, 'tasty': 1525, 'thousands': 1526, 'agreed': 1527, 'happens': 1528, 'furthermore': 1529, 'increase': 1530, \"they'd\": 1531, 'christmastime': 1532, 'receive': 1533, 'feathers': 1534, 'finding': 1535, 'lilacs': 1536, 'fade': 1537, 'treated': 1538, 'july': 1539, 'field': 1540, 'morn\\x02ing': 1541, 'tall': 1542, 'thunder': 1543, 'load': 1544, 'hide': 1545, 'add': 1546, 'fields': 1547, 'swamp': 1548, 'phoebe': 1549, 'brief': 1550, 'interlude': 1551, 'cheeky': 1552, 'chew': 1553, 'orange': 1554, 'voices': 1555, 'spied': 1556, 'gratified': 1557, 'patience': 1558, 'objects': 1559, 'oking': 1560, 'ugly': 1561, 'truth': 1562, 'reason': 1563, 'broad': 1564, 'bill': 1565, 'laughed': 1566, 'laugh': 1567, 'ancient': 1568, 'breaks': 1569, 'able': 1570, 'stink': 1571, 'snarled': 1572, 'handle': 1573, 'rolling': 1574, 'smiling': 1575, 'sensible': 1576, 'useful': 1577, 'complaining': 1578, 'putting': 1579, 'admired': 1580, 'particularly': 1581, 'musical': 1582, 'al\\x02ways': 1583, 'vilbur': 1584, 'fattening': 1585, 'smoked': 1586, 'business': 1587, 'moaned': 1588, 'breathe': 1589, 'childish': 1590, 'gazing': 1591, 'catches': 1592, 'adores': 1593, 'spending': 1594, 'husband': 1595, 'rate': 1596, 'sorts': 1597, 'delicate': 1598, 'easily': 1599, 'tom': 1600, 'strange': 1601, 'awfully': 1602, 'hairy': 1603, 'task': 1604, 'funhermore': 1605, 'mine': 1606, 'sec\\x02tions': 1607, 'coxa': 1608, 'trochanter': 1609, 'femur': 1610, 'patella': 1611, 'tibia': 1612, 'metatarsus': 1613, 'tarsus': 1614, 'upright': 1615, 'kidding': 1616, 'names': 1617, 'lives': 1618, 'boasting': 1619, 'scrambled': 1620, 'sway': 1621, 'bump': 1622, 'curly': 1623, 'neglected': 1624, 'crushed': 1625, 'trapping': 1626, 'queensborough': 1627, 'son': 1628, 'forest': 1629, 'aside': 1630, 'bundle': 1631, 'rudely': 1632, 'finish': 1633, 'whippoorwill': 1634, 'familiar': 1635, 'tremble': 1636, 'whistling': 1637, 'promised': 1638, 'curiosity': 1639, 'worrying': 1640, 'nerve': 1641, 'whisper': 1642, 'having': 1643, 'blueberry': 1644, 'lets': 1645, 'soapy': 1646, 'bother': 1647, 'scooped': 1648, 'heavy': 1649, 'beam': 1650, 'knot': 1651, 'straddled': 1652, 'acted': 1653, 'falling': 1654, 'sail': 1655, 'upward': 1656, 'parents': 1657, 'ordered': 1658, 'sailing': 1659, 'dress': 1660, 'sister': 1661, 'hey': 1662, 'cover': 1663, \"ol'\": 1664, 'catching': 1665, 'raise': 1666, 'hit': 1667, 'swayed': 1668, 'dull': 1669, 'greatly': 1670, 'adventure': 1671, 'beloved': 1672, 'dragged': 1673, 'gulped': 1674, 'jelly': 1675, 'saving': 1676, 'entered': 1677, 'moodily': 1678, 'tore': 1679, 'strand': 1680, 'noted': 1681, 'built': 1682, 'block': 1683, 'brushed': 1684, 'any\\x02thing': 1685, 'n': 1686, 'silently': 1687, 'sentence': 1688, 'complete': 1689, 'received': 1690, 'fog': 1691, 'occurred': 1692, 'un\\x02usual': 1693, 'common': 1694, 'moving': 1695, 'imponant': 1696, 'suit': 1697, 'explain': 1698, 'sermon': 1699, 'cars': 1700, 'miraculous': 1701, 'duty': 1702, 'attraction': 1703, 'ganders': 1704, 'idio': 1705, 'proceed': 1706, 'order': 1707, 'suggestions': 1708, \"'terrific\": 1709, 'particle': 1710, 'rr': 1711, 'written': 1712, 'regularly': 1713, 'magazines': 1714, 'zero': 1715, 'destiny': 1716, 'closely': 1717, 'stands': 1718, 'apart': 1719, 'orb': 1720, 'kinds': 1721, 'uses': 1722, 'use': 1723, 'letter': 1724, 'formed': 1725, 'satisfied': 1726, 'r': 1727, 'descend': 1728, 'handsome': 1729, 'phone': 1730, 'photographer': 1731, 'state': 1732, 'gold': 1733, 'trash': 1734, 'hidden': 1735, 'cans': 1736, 'rags': 1737, 'clinging': 1738, 'crunchy': 1739, 'crisp': 1740, 'disgusted': 1741, 'cotton': 1742, 'cloth': 1743, 'label': 1744, 'shrunk': 1745, 'messenger': 1746, 'grumbled': 1747, 'studied': 1748, 'straight': 1749, 'obeyed': 1750, 'comfonable': 1751, 'leaped': 1752, 'shining': 1753, 'sagging': 1754, 'dangerously': 1755, 'beaten': 1756, 'mercilessly': 1757, 'lashed': 1758, 'wrapped': 1759, 'aeronaut': 1760, 'balloonist': 1761, 'ended': 1762, 'dish': 1763, 'dear': 1764, 'mg': 1765, 'aloft': 1766, 'advice': 1767, 'thick': 1768, 'spends': 1769, 'normal': 1770, 'sits': 1771, 'hearing': 1772, 'opening': 1773, 'no\\x02body': 1774, 'ill': 1775, 'besides': 1776, 'fully': 1777, 'sadness': 1778, 'results': 1779, 'admire': 1780, 'glow': 1781, 'him\\x02self': 1782, 'modest': 1783, 'fame': 1784, 'realized': 1785, 'forward': 1786, \"'versatile'\": 1787, \"we'll\": 1788, 'rested': 1789, 'swings': 1790, 'prizes': 1791, \"arables'\": 1792, 'prettiest': 1793, 'occasion': 1794, 'weakly': 1795, 'paddle': 1796, 'dragline': 1797, 'sides': 1798, 'staying': 1799, 'ietly': 1800, 'ilbur': 1801, \"somebody's\": 1802, 'errands': 1803, 'general': 1804, 'paradise': 1805, 'feast': 1806, 'horse': 1807, 'boxes': 1808, 'containing': 1809, 'boiled': 1810, 'particles': 1811, 'lights': 1812, 'treasure': 1813, 'stuffed': 1814, 'ought': 1815, 'oming': 1816, 'backed': 1817, 'shoving': 1818, 'tailgate': 1819, 'lined': 1820, 'radiance': 1821, 'mess': 1822, 'com\\x02manded': 1823, 'knelt': 1824, 'rose': 1825, 'ride': 1826, 'joined': 1827, 'shove': 1828, 'aboard': 1829, 'track': 1830, 'fireworks': 1831, 'themselves': 1832, 'dimes': 1833, 'cross': 1834, 'danced': 1835, 'crowds': 1836, 'cattle': 1837, 'sights': 1838, 'haw': 1839, 'funny': 1840, 'noisy': 1841, 'least': 1842, 'coat': 1843, 'ear': 1844, 'fanning': 1845, 'judges': 1846, 'indian': 1847, 'thirsty': 1848, 'twice': 1849, 'newspaper': 1850, \"'humble\": 1851, 'sneered': 1852, 'zuckennans': 1853, 'fresh': 1854, 'patted': 1855, 'speed': 1856, 'sparrows': 1857, 'chains': 1858, 'object': 1859, 'plaything': 1860, 'magnum': 1861, 'opus': 1862, 'constructed': 1863, 'waterproof': 1864, 'founeen': 1865, 'running': 1866, 'east': 1867, 'studying': 1868, 'swollen': 1869, 'gorge': 1870, 'passage': 1871, 'murmured': 1872, 'grateful': 1873, 'handkerchief': 1874, 'award': 1875, 'unable': 1876, 'trembled': 1877, 'cap': 1878, 'ladeez': 1879, 'attracting': 1880, 'valuable': 1881, 'observe': 1882, 'note': 1883, 'assured': 1884, 'honor': 1885, 'appreciation': 1886, 'dizzier': 1887, 'dollar': 1888, 'happiness': 1889, 'shoved': 1890, 'act': 1891, 'clown': 1892, 'imaginary': 1893, 'success': 1894, 'harm': 1895, 'autumn': 1896, 'snows': 1897, 'deal': 1898, 'precious': 1899, \"anyone's\": 1900, 'sorrow': 1901, 'wink': 1902, 'fastened': 1903, 'carry': 1904, 'deserted': 1905, 'welcome': 1906, 'congratu': 1907, 'sunny': 1908, \"mother's\": 1909, 'rising': 1910, 'updraft': 1911, 'door\\x02way': 1912, 'balloonists': 1913, 'daughters': 1914, 'pledge': 1915, 'hoghouse': 1916, 'amount': 1917, 'shrieked': 1918, 'smaller': 1919, 'pitcher': 1920, 'sopping': 1921, 'controlling': 1922, \"father's\": 1923, 'weakling': 1924, 'runty': 1925, 'case': 1926, 'arm': 1927, 'coffee': 1928, 'plaster': 1929, 'smoke': 1930, 'roller': 1931, 'stairs': 1932, 'approached': 1933, 'wobbled': 1934, 'scratching': 1935, 'car\\x02ton': 1936, 'newborn': 1937, 'un\\x02timely': 1938, 'lord': 1939, 'forgive': 1940, 'foolishness': 1941, 'per\\x02fect': 1942, 'canon': 1943, 'cheek': 1944, 'brother': 1945, 'heavily': 1946, 'armed': 1947, 'rifle': 1948, 'dagger': 1949, 'guest': 1950, 'uy': 1951, 'ou': 1952, 'specimen': 1953, 'distribute': 1954, 'risers': 1955, 'nevertheless': 1956, 'shows': 1957, 'person': 1958, \"baby's\": 1959, 'nursing': 1960, 'fitted': 1961, 'infant': 1962, 'teaching': 1963, 'blissful': 1964, 'charge': 1965, 'named': 1966, 'pet': 1967, 'selecting': 1968, 'teacher': 1969, 'capital': 1970, 'pennsylvania': 1971, 'pupils': 1972, 'giggled': 1973, 'stroke': 1974, 'warmed': 1975, 'bib': 1976, 'fix': 1977, 'feeding': 1978, 'happier': 1979, 'wanning': 1980, 'gaze': 1981, 'adoring': 1982, 'allowed': 1983, 'big\\x02ger': 1984, 'blossom': 1985, 'warmer': 1986, 'sleepily': 1987, 'peered': 1988, 'cov\\x02ered': 1989, 'enchanted': 1990, 'wave': 1991, 'car\\x02riage': 1992, 'journeys': 1993, \"doll's\": 1994, 'cute': 1995, 'smoothly': 1996, 'infants': 1997, 'bath\\x02ing': 1998, 'suits': 1999, 'swim': 2000, 'tagged': 2001, 'heels': 2002, 'liking': 2003, 'swam': 2004, 'amused': 2005, 'mud': 2006, 'moist': 2007, 'oozy': 2008, 'wept': 2009, '�d': 2010, 'increased': 2011, 'addition': 2012, 'provide': 2013, 'brothers': 2014, 'sisters': 2015, 'raises': 2016, 'phoned': 2017, 'price': 2018, 'buy': 2019, \"zuck\\x02erman's\": 2020, 'perspiration': 2021, 'harness': 2022, 'dressing': 2023, 'axle': 2024, 'grease': 2025, 'given': 2026, 'mostly': 2027, 'sons': 2028, 'barns': 2029, 'ladders': 2030, 'grindstones': 2031, 'forks': 2032, 'wrenches': 2033, 'scythes': 2034, 'lawn': 2035, 'mowers': 2036, 'shovels': 2037, 'handles': 2038, 'sacks': 2039, 'traps': 2040, 'horner': 2041, 'warmth': 2042, 'milking': 2043, 'afternoons': 2044, 'trust': 2045, 'fun\\x02no': 2046, 'walks': 2047, 'rides': 2048, 'swims': 2049, 'june': 2050, 'overlooked': 2051, 'itched': 2052, 'agatn': 2053, 'dirty\\x02little': 2054, 'slower': 2055, 'risk': 2056, 'repeating': 2057, 'mysdf': 2058, 'suggest': 2059, 'squeezed': 2060, 'sod': 2061, 'radishes': 2062, 'prance': 2063, 'stroll': 2064, 'twirled': 2065, 'steps': 2066, 'pausing': 2067, 'rooting': 2068, 'anyone': 2069, 'mer': 2070, 'starts': 2071, 'hollering': 2072, 'join': 2073, 'chase': 2074, 'mending': 2075, 'tool': 2076, 'weeds': 2077, 'nearest': 2078, 'pricked': 2079, 'hol\\x02lering': 2080, 'became': 2081, 'command': 2082, 'orders': 2083, 'slip': 2084, 'tum': 2085, 'hind': 2086, 'dog': 2087, 'poor': 2088, 'hulla\\x02baloo': 2089, 'barely': 2090, 'anns': 2091, 'comfort': 2092, \"kellogg's\": 2093, 'tapping': 2094, 'lure': 2095, 'captivity': 2096, 'iviry': 2097, 'appealing': 2098, 'innocently': 2099, 'miss': 2100, 'barrel': 2101, 'sucking': 2102, 'hungrily': 2103, 'fetched': 2104, 'hammer': 2105, '8': 2106, 'penny': 2107, 'nails': 2108, 'tiring': 2109, 'dripped': 2110, 'eaves': 2111, 'crooked': 2112, 'courses': 2113, 'thistles': 2114, 'pigweed': 2115, 'spattered': 2116, 'gushing': 2117, 'downspouts': 2118, 'backs': 2119, 'grazed': 2120, 'meadow': 2121, 'fold': 2122, 'upset': 2123, 'crusts': 2124, 'cakes': 2125, 'syrup': 2126, 'pudding': 2127, 'raisins': 2128, 'shredded': 2129, 'occupation': 2130, 'trench': 2131, 'parings': 2132, 'gravy': 2133, 'carrot': 2134, 'scrapings': 2135, 'hominy': 2136, 'wrapper': 2137, 'provender': 2138, 'lunchbox': 2139, 'prune': 2140, 'morsel': 2141, 'marmalade': 2142, 'drippings': 2143, 'baked': 2144, 'scrap': 2145, 'upsidedown': 2146, 'cake': 2147, 'rainwater': 2148, 'honestly': 2149, 'banging': 2150, \"c'mon\": 2151, 'mentioned': 2152, 'sonny': 2153, 'sitting\\x02sitting': 2154, 'toasty': 2155, 'flibberty': 2156, 'ibberty': 2157, 'gibbet': 2158, 'wood\\x02peckers': 2159, 'bitterly': 2160, \"'lambs\": 2161, 'noth\\x02ingness': 2162, 'lowest': 2163, 'something\\x02even': 2164, 'climbing': 2165, 'slanting': 2166, 'stairway': 2167, 'twirling': 2168, 'meaning': 2169, 'frolic': 2170, 'sourly': 2171, 'prefer': 2172, 'gnawing': 2173, 'spying': 2174, 'glutton': 2175, 'merrymaker': 2176, 'stealthily': 2177, 'private': 2178, 'crafty': 2179, 'example': 2180, 'skill': 2181, 'cunning': 2182, 'en\\x02abled': 2183, 'tunnels': 2184, 'runways': 2185, 'abroad': 2186, 'disappear': 2187, 'un\\x02derneath': 2188, 'dreary': 2189, 'soaked': 2190, 'pouring': 2191, 'comfon': 2192, 'dejected': 2193, 'spoonfuls': 2194, 'sulphur': 2195, 'mo\\x02lasses': 2196, 'forced': 2197, 'medicine': 2198, 'endure': 2199, 'loneliness': 2200, 'cuds': 2201, 'occasionally': 2202, 'chain': 2203, 'stom\\x02ach': 2204, 'blackness': 2205, 'figure': 2206, 'gnaw\\x02ing': 2207, 'bin': 2208, 'loudly': 2209, 'grinding': 2210, 'clashers': 2211, 'destroying': 2212, \"people's\": 2213, 'property': 2214, 'decent': 2215, 'uncomforta\\x02ble': 2216, 'approximately': 2217, 'oxirnately': 2218, 'an\\x02swered': 2219, 'cheat': 2220, 'after\\x02noons': 2221, 'motion\\x02less': 2222, 'dozed': 2223, 'quit': 2224, 'some\\x02where': 2225, 'errand': 2226, 'scrap\\x02ing': 2227, 'rooftop': 2228, 'vane': 2229, 'swung': 2230, 'gleam': 2231, 'tucked': 2232, 'wing': 2233, 'lightened': 2234, 'searched': 2235, 'ledge': 2236, 'stillness': 2237, 'locate': 2238, 'mysteri\\x02ous': 2239, 'appropriate': 2240, 'signal': 2241, 'paused': 2242, 'un\\x02known': 2243, 'mes\\x02sage': 2244, 'dis\\x02turbing': 2245, 'quickest': 2246, 'friend\\x02ship': 2247, 'riser': 2248, 'beg': 2249, \"everyone's\": 2250, 'pardon': 2251, 'objectionable': 2252, 'facing': 2253, 'waddled': 2254, 'settling': 2255, 'salu': 2256, 'greetings': 2257, \"'salutations\": 2258, 'silly': 2259, 'where\\x02abouts': 2260, 'upper': 2261, 'spiderweb': 2262, 'gumdrop': 2263, 'greeting': 2264, 'cavatica': 2265, 'denying': 2266, 'flashy': 2267, 'dreadfully': 2268, 'ways': 2269, 'flown': 2270, 'furiously': 2271, 'dive': 2272, 'plunged': 2273, 'silken': 2274, 'unwound': 2275, 'jets': 2276, 'horror': 2277, 'detested': 2278, 'comfortable': 2279, 'gasped': 2280, \"''certainly\": 2281, 'grasshoppers': 2282, 'beedes': 2283, 'moths': 2284, 'butterflies': 2285, 'cockroaches': 2286, 'gnats': 2287, 'midges': 2288, 'daddy': 2289, 'longlegs': 2290, 'centipedes': 2291, 'mosquitoes': 2292, 'uly\\x02thing': 2293, 'careless': 2294, 'taste': 2295, 'thinner': 2296, 'entirely': 2297, 'diet': 2298, 'somehow': 2299, 'trap': 2300, 'in\\x02sects': 2301, 'trap\\x02pers': 2302, 'inheritance': 2303, 'argued': 2304, 'position': 2305, 'feeds': 2306, 'wits': 2307, 'lest': 2308, 'shaking': 2309, 'realize': 2310, 'mul\\x02tiply': 2311, 'numerous': 2312, 'destroy': 2313, 'wipe': 2314, 'hap\\x02pen': 2315, 'innocent': 2316, 'plotting': 2317, 'further': 2318, 'preparing': 2319, 'wakeful': 2320, 'be\\x02yond': 2321, 'gamble': 2322, 'fierce': 2323, 'brutal': 2324, 'scheming': 2325, 'merely': 2326, 'suffering': 2327, 'doubts': 2328, 'fears': 2329, 'discover': 2330, 'mistaken': 2331, 'bold': 2332, 'exterior': 2333, 'prove': 2334, 'happiest': 2335, 'fairest': 2336, 'bloom': 2337, 'blossoms': 2338, 'ends': 2339, 'trouts': 2340, 'trout': 2341, 'stiff': 2342, 'al\\x02most': 2343, 'equal': 2344, 'calmly': 2345, 'hitched': 2346, 'mowing': 2347, 'cutter': 2348, 'bar': 2349, 'swathes': 2350, 'rake': 2351, 'hauled': 2352, 'wagon': 2353, 'rid\\x02ing': 2354, 'hoisted': 2355, 'timothy': 2356, 'snake': 2357, 'jubilee': 2358, 'birds': 2359, 'songs': 2360, 'white\\x02throated': 2361, 'boston': 2362, 'bough': 2363, 'teeters': 2364, 'wags': 2365, 'phoe': 2366, 'enter': 2367, 'swoop': 2368, 'scold': 2369, 'dandelion': 2370, 'stems': 2371, 'nectar': 2372, 'frigidaire': 2373, 'drinks': 2374, 'ball': 2375, 'spit': 2376, 'weed': 2377, 'stalk': 2378, 'apan': 2379, 'worm': 2380, 'leaf': 2381, 'vine': 2382, 'advance': 2383, 'desperately': 2384, 'cramped': 2385, 'po\\x02sition': 2386, 'shell': 2387, \"goose's\": 2388, 'unremit\\x02ting': 2389, 'effon': 2390, 'pan': 2391, 'gos\\x02lings': 2392, 'offer': 2393, 'sincere': 2394, 'congratula\\x02tions': 2395, 'nodding': 2396, 'bowing': 2397, 'shamelessly': 2398, 'luck': 2399, 'ernpleton': 2400, 'glant': 2401, 'ed': 2402, 'keeping': 2403, 'hap\\x02pened': 2404, 'dud': 2405, 'em\\x02pleton': 2406, 'beady': 2407, 'nasty': 2408, 'collection': 2409, 'habit': 2410, 'storing': 2411, 'horne': 2412, 'enainly': 2413, 'ertainly': 2414, 'pound\\x02ing': 2415, 'power': 2416, 'brave': 2417, 'morals': 2418, 'con\\x02science': 2419, 'scruples': 2420, 'consideration': 2421, 'decency': 2422, 'rodent': 2423, 'kindness': 2424, 'compunctions': 2425, 'friendliness': 2426, 'unhatched': 2427, 'company': 2428, 'appalled': 2429, 'wanting': 2430, 'junky': 2431, 'tinkling': 2432, 'untenable': 2433, 'bomb': 2434, 'nudged': 2435, 'suc\\x02ceeded': 2436, 'lair': 2437, 'campaign': 2438, 'pes\\x02tering': 2439, 'de\\x02tested': 2440, 'loathed': 2441, 'screens': 2442, 'victim': 2443, 'thoughtful': 2444, 'anaesthetic': 2445, 'service': 2446, 'enjoyed': 2447, 'health': 2448, 'gained': 2449, 'after\\x02noon': 2450, 'gaining': 2451, 'envy': 2452, 'rigid': 2453, 'murdered': 2454, 'farmer': 2455, 'sets': 2456, 'conspiracy': 2457, 'plot\\x02lurvy': 2458, 'butchered': 2459, 'helps': 2460, 'arrives': 2461, 'shoots': 2462, 'racing': 2463, 'plucking': 2464, 'diniest': 2465, 'burst': 2466, 'briskly': 2467, 'car\\x02rying': 2468, 'hysterics': 2469, 'up\\x02stairs': 2470, 'slingshot': 2471, \"'us'\": 2472, 'weil': 2473, 'sucks': 2474, 'staring': 2475, 'faintest': 2476, \"'i\": 2477, 'unremitting': 2478, 'effort': 2479, 'rambled': 2480, 'pretending': 2481, 'wondered': 2482, 'lively': 2483, 'imagination': 2484, 'kids': 2485, 'doriap': 2486, 'loves': 2487, 'queerly': 2488, 'act\\x02ing': 2489, 'nor\\x02mal': 2490, 'stronger': 2491, 'al\\x02though': 2492, 'kick': 2493, 'rebuild': 2494, 'holes': 2495, 'nearby': 2496, 'witnessed': 2497, 'bolt': 2498, 'either': 2499, 'chubby': 2500, 'lead': 2501, 'coach': 2502, 'starr': 2503, 'highest': 2504, 'attach\\x02ment': 2505, 'hurl': 2506, 'drag': 2507, 'hesitated': 2508, 'glanced': 2509, 'hastily': 2510, 'check': 2511, 'thump': 2512, 'ooomp': 2513, 're\\x02covered': 2514, 'borrow': 2515, 'oblige': 2516, 'seized': 2517, 'hitches': 2518, 'delight': 2519, 'fond': 2520, 'smelly': 2521, 'attracted': 2522, 'quitter': 2523, 'ma\\x02nure': 2524, 'summoning': 2525, 'trailed': 2526, 'fasten': 2527, 'thud': 2528, 'hurt': 2529, 'advise': 2530, 'supplies': 2531, 'cleverer': 2532, 'brighter': 2533, 'serves': 2534, 'untied': 2535, \"needn't\": 2536, 'badly': 2537, 'starved': 2538, 'trotting': 2539, 'wandering': 2540, 'creation': 2541, 'gives': 2542, 'eve\\x02ning': 2543, 'beechnuts': 2544, 'truffles': 2545, 'delectable': 2546, 'roots': 2547, 'wonder\\x02ful': 2548, 'searching': 2549, 'sniffing': 2550, 'smelliest': 2551, 'embarrassment': 2552, 'sharply': 2553, 'considering': 2554, 'surroundings': 2555, 'peas': 2556, 'interrupting': 2557, 'in\\x02terrupted': 2558, 'fixing': 2559, 'twilight': 2560, 'feel\\x02ing': 2561, 'peace': 2562, 'doorways': 2563, 'bringing': 2564, 'bird': 2565, 'lit': 2566, 'pipe': 2567, 'tobacco': 2568, 'trill': 2569, 'toad': 2570, 'occasional': 2571, 'slamming': 2572, 'comfort\\x02able': 2573, 'comfort\\x02ing': 2574, 'thrust': 2575, 'necks': 2576, 'troupe': 2577, 'pipers': 2578, 'killing': 2579, 'collected': 2580, 'lightly': 2581, 'stages': 2582, 'shaped': 2583, 'fail': 2584, 'gain': 2585, 'fit': 2586, 'under\\x02stand': 2587, 'im\\x02portant': 2588, 'trotted': 2589, 'darkest': 2590, 'mashed': 2591, 'po\\x02tato': 2592, 'delay': 2593, 'checked': 2594, 'chewed': 2595, 'arefully': 2596, 'swallowed': 2597, 'y': 2598, 'cs': 2599, 'pause': 2600, 'head\\x02down': 2601, 'motionless': 2602, 'experience': 2603, 'problem': 2604, 'simple': 2605, 'surely': 2606, 'smart': 2607, 'gullible': 2608, \"'gullible'\": 2609, 'mercy': 2610, 'affection\\x02ately': 2611, 'crown': 2612, 'daisies': 2613, 'j': 2614, 'lrs': 2615, 'placing': 2616, 'drainboard': 2617, 'be\\x02tween': 2618, 'dishpan': 2619, 'henhouse': 2620, 'hens': 2621, 'splashing': 2622, 'crisis': 2623, 'fat': 2624, 'oq': 2625, 'ladder': 2626, 'sud\\x02denly': 2627, 'mile': 2628, 'zoom': 2629, 'clouds': 2630, 'sail\\x02ing': 2631, \"zucker\\x02man's\": 2632, 'feared': 2633, 'tighter': 2634, 'swang': 2635, 'crashed': 2636, 'swallow': 2637, 'itches': 2638, 'itch': 2639, 'supponing': 2640, 'turns': 2641, 'rasp\\x02berries': 2642, 'tongues': 2643, 'tasting': 2644, 'discouraged': 2645, 'chil\\x02dren': 2646, 'announced': 2647, 'tre\\x02menjus': 2648, 'succeeded': 2649, 'balance': 2650, 'toppled': 2651, 'tipped': 2652, 'slap': 2653, 'explosion': 2654, 'horrible': 2655, 'gases': 2656, 'scuttled': 2657, 'narrow': 2658, 'complaints': 2659, 'share': 2660, 'gab\\x02bled': 2661, 'loss': 2662, 'resist': 2663, 'pays': 2664, 'surly': 2665, 'handy': 2666, 'unbearable': 2667, 'perfumed': 2668, 'wisely': 2669, 'shon': 2670, 'paces': 2671, 'pried': 2672, 'fhew': 2673, \"a'\": 2674, 'hate': 2675, 'burying': 2676, 'possessions': 2677, 'drooling': 2678, 'hunger': 2679, 'creamily': 2680, 'swishing': 2681, 'swooshing': 2682, 'meal\\x02skim': 2683, 'pancakes': 2684, 'rind': 2685, 'squash': 2686, 'pieces': 2687, 'toast': 2688, 'gingersnap': 2689, 'peel': 2690, 'noodles': 2691, 'soup': 2692, 'scum': 2693, 'cup': 2694, 'cocoa': 2695, 'lining': 2696, 'garbage': 2697, 'spoonful': 2698, 'jello': 2699, 'lvilbur': 2700, 'heartily': 2701, 'lengthened': 2702, 'astride': 2703, 'horsefly': 2704, 'bestirred': 2705, 'descended': 2706, 'drowsed': 2707, 'snoozed': 2708, 'favorite': 2709, 'whistled': 2710, 'section': 2711, 'removed': 2712, 'fann': 2713, 'dripping': 2714, 'magic': 2715, 'carpet': 2716, 'silver': 2717, 'decorated': 2718, 'beads': 2719, 'glistened': 2720, 'pattern': 2721, 'love\\x02liness': 2722, 'mystery': 2723, 'veil': 2724, 'panicularly': 2725, 'uttered': 2726, 'prayer': 2727, 'forgetting': 2728, 'munnured': 2729, 'exenions': 2730, 'solemnly': 2731, 'pale': 2732, 'bewilderment': 2733, 'recover': 2734, 'scare': 2735, 'myste\\x02rious': 2736, 'distinct': 2737, 'spang': 2738, 'mistake': 2739, 'uw': 2740, 'ell': 2741, 'muscle': 2742, 'lis\\x02tened': 2743, 'beyond': 2744, 'otf': 2745, 'plainly': 2746, 'ours': 2747, 'shoulders': 2748, \"minister's\": 2749, 'sun\\x02day': 2750, 'community': 2751, 'niece': 2752, 'notions': 2753, 'month': 2754, 'secrets': 2755, 'driveway': 2756, 'trucks': 2757, 'fords': 2758, 'chevvies': 2759, 'buick': 2760, 'roadmasters': 2761, 'gmc': 2762, 'pickups': 2763, 'plymouths': 2764, 'studebakers': 2765, 'packards': 2766, 'de': 2767, 'sotos': 2768, 'gyromatic': 2769, 'transmissions': 2770, 'oldsmobiles': 2771, 'rocket': 2772, 'engines': 2773, 'jeep': 2774, 'station': 2775, 'wagons': 2776, 'pontiacs': 2777, 'hills': 2778, 'rattling': 2779, 'buggies': 2780, 'buckboards': 2781, 'shocked': 2782, 'sent': 2783, 'punishment': 2784, 'entertaining': 2785, 'prepared': 2786, 'shaved': 2787, 'haircut': 2788, 'principal': 2789, 'feedings': 2790, 'blackberries': 2791, 'ripe': 2792, 'failed': 2793, 'black\\x02berry': 2794, 'jam': 2795, 'hoeing': 2796, 'hoe': 2797, 'church': 2798, 'proved': 2799, 'human': 2800, 'beings': 2801, 'corning': 2802, 'wonders': 2803, \"char\\x02lotte's\": 2804, 'nearly': 2805, \"'here'\": 2806, 'idiosyncrasy': 2807, 'glared': 2808, 'bee\\x02bee': 2809, 'wrote': 2810, 'praising': 2811, 'fallen': 2812, 'thinks': 2813, 'dare': 2814, 'hurray': 2815, 'slogan': 2816, \"'pig\": 2817, \"supreme'\": 2818, 'des\\x02sert': 2819, \"terrific'\": 2820, 'impress': 2821, 'print': 2822, 'spell': 2823, 'tee': 2824, 'ee': 2825, 'ff': 2826, 'acrobat': 2827, 'st': 2828, \"vitus's\": 2829, 'agree': 2830, 'visits': 2831, 'access': 2832, 'advertisements': 2833, 'copy': 2834, 'is\\x02always': 2835, 'fellow': 2836, 'bet': 2837, 'appeal': 2838, 'baser': 2839, 'instincts': 2840, 'did\\x02creeping': 2841, 'assembled': 2842, \"directors'\": 2843, 'meetings': 2844, 'bore': 2845, 'messages': 2846, 'january': 2847, 'pour': 2848, 'chief': 2849, 'source': 2850, 'supply': 2851, 'linked': 2852, 'quivered': 2853, 'gruffly': 2854, 'ad\\x02journed': 2855, 'average': 2856, 'concerned': 2857, 'sweetly': 2858, 'counts': 2859, 'sensational': 2860, 'arguing': 2861, 'ripped': 2862, 'cen\\x02ter': 2863, 'radial': 2864, 'support': 2865, 'expert': 2866, 'ripping': 2867, 'produce': 2868, 'tough': 2869, 'foundation': 2870, 'snare': 2871, 'effect': 2872, 'posi\\x02tion': 2873, '�hread': 2874, 'tubes': 2875, 'attachment': 2876, 'forming': 2877, 'e': 2878, 'loop': 2879, 'ascend': 2880, 'difficult': 2881, 'completed': 2882, 'arose': 2883, 'beneath': 2884, 'lungs': 2885, 'hurried': 2886, 'swelling': 2887, 'chest': 2888, 'joyful': 2889, 'admira\\x02tion': 2890, 'reponer': 2891, 'weekly': 2892, 'chronicle': 2893, 'journeyed': 2894, 'thrown': 2895, 'bedding': 2896, 'sir': 2897, 'september': 2898, 'sixth': 2899, 'paint': 2900, 'pitchfork': 2901, 'path': 2902, 'clearing': 2903, 'alders': 2904, 'bushes': 2905, 'astonishing': 2906, 'metal': 2907, 'hinges': 2908, 'springs': 2909, 'batteries': 2910, \"month's\": 2911, 'dishmops': 2912, 'tattered': 2913, 'overalls': 2914, 'spikes': 2915, 'leaky': 2916, 'stoppers': 2917, 'useless': 2918, 'junk': 2919, 'including': 2920, 'crank': 2921, 'freezer': 2922, 'excellent': 2923, 'rummaging': 2924, 'advertisement': 2925, 'crum\\x02pled': 2926, \"'crunchy\": 2927, \"'crunchy'\": 2928, 'worse': 2929, 'advertise': 2930, 'noble': 2931, 'qual\\x02ities': 2932, 'tastiness': 2933, 'sneaked': 2934, 'pre\\x02shrunk': 2935, \"'pre\": 2936, \"shrunk'\": 2937, 'question': 2938, 'chasing': 2939, 'advertising': 2940, 'pack\\x02age': 2941, 'dis\\x02appeared': 2942, 'cardboard': 2943, 'triumphantly': 2944, 'fetch': 2945, 'dictionary': 2946, 'ogerher': 2947, \"'with\": 2948, 'faster': 2949, 'galloped': 2950, 'curl': 2951, 'backwards': 2952, 'writhing': 2953, 'twisting': 2954, 'affection': 2955, 'romp': 2956, 'scratchy': 2957, 'llnd': 2958, 'pose': 2959, 'upon': 2960, 'sur\\x02prised': 2961, 'dared': 2962, 'tackle': 2963, 'swooped': 2964, 'masses': 2965, 'fought': 2966, 'bravely': 2967, 'succeed': 2968, 'battle': 2969, 'weigh': 2970, 'fighting': 2971, 'mid\\x02section': 2972, 'fight': 2973, 'form': 2974, \"she'd\": 2975, 'remarkable': 2976, 'cousins': 2977, 'closing': 2978, 'lullaby': 2979, 'chirped': 2980, 'thrushes': 2981, 'rushes': 2982, 'md': 2983, 'saturday': 2984, 'drying': 2985, 'dishes': 2986, 'hoped': 2987, 'heading': 2988, 'storyteller': 2989, 'cereal': 2990, 'bowl': 2991, 'sternly': 2992, 'in\\x02vent': 2993, 'stories': 2994, 'talks': 2995, 'fascinating': 2996, 'fibs': 2997, 'invent\\x02ing': 2998, 'tales': 2999, 'inventing': 3000, 'telling': 3001, 'facts': 3002, 'car\\x02ried': 3003, 'darling': 3004, 'playmates': 3005, 'sociable': 3006, 'dusted': 3007, 'natural': 3008, 'office': 3009, 'village': 3010, 'beard': 3011, 'en\\x02tirely': 3012, 'watches': 3013, 'listens': 3014, 'enchanting': 3015, 'nervously': 3016, \"you'\": 3017, \"miracle\\x02it's\": 3018, 'shifted': 3019, 'uneasily': 3020, 'crochet': 3021, 'doily': 3022, 'knit': 3023, 'sock': 3024, 'any\\x02body': 3025, 'regard': 3026, 'sighing': 3027, 'doctors': 3028, 'supposed': 3029, 'fidgeted': 3030, 'proves': 3031, 'civilly': 3032, 'paying': 3033, 'incessant': 3034, 'talkers': 3035, \"she'll\": 3036, 'boys\\x02does': 3037, 'brightly': 3038, 'hmm': 3039, 're\\x02markable': 3040, 'associate': 3041, 'offhand': 3042, 'predict': 3043, 'amazing': 3044, 'poison': 3045, 'ivy': 3046, 'stung': 3047, 'wasps': 3048, 'brings': 3049, 'snakes': 3050, 'goodbye': 3051, 'anj': 3052, 'thanked': 3053, 'grasses': 3054, \"summer's\": 3055, 'ending': 3056, 'mo\\x02notonous': 3057, 'warn': 3058, 'summertime': 3059, 'rumor': 3060, 'dusty': 3061, \"hadn't\": 3062, 'frost': 3063, 'uneasy': 3064, 'discovered': 3065, 'cricket': 3066, 'anxiety': 3067, 'golden': 3068, 'sunlight': 3069, 'be\\x02friended': 3070, 'repu\\x02tation': 3071, 'slightly': 3072, 'blink': 3073, 'audience': 3074, 'mere': 3075, 'knives': 3076, 'guns': 3077, 'confident': 3078, 'truer': 3079, 'satis\\x02fying': 3080, 'distinguish': 3081, 'worries': 3082, 'inconvenient': 3083, 'amazement': 3084, 'versatile': 3085, 'ease': 3086, 'activities': 3087, 'trap\\x02ping': 3088, 'stunts': 3089, 'pleaded': 3090, 'twitch': 3091, 'arrange': 3092, 'duties': 3093, 'for\\x02sake': 3094, 'grasshopper': 3095, 'baseballs': 3096, 'winning': 3097, 'genuine': 3098, 'navajo': 3099, 'unit': 3100, 'dreamt': 3101, 'grown': 3102, 'sixteen': 3103, 'ninety': 3104, 'ribbons': 3105, 'ribbon': 3106, 'lugged': 3107, 'sponge': 3108, 'be\\x02cause': 3109, 'scrubbed': 3110, 'parted': 3111, 'hairs': 3112, 'underwear': 3113, 'jeans': 3114, 'dressed': 3115, 'polished': 3116, 'offered': 3117, 'includ\\x02ing': 3118, 'ra\\x02diant': 3119, 'grandmother': 3120, 'bathe': 3121, 're\\x02membered': 3122, 'proudly': 3123, 'filthy': 3124, 'runs': 3125, 'dries': 3126, 'forms': 3127, 'crust': 3128, 'smudge': 3129, 'corrected': 3130, 'dough\\x02nut': 3131, 're\\x02turned': 3132, 'raincoat': 3133, 'wasted': 3134, 'dipping': 3135, 'trick\\x02ling': 3136, 'deanest': 3137, 'pure': 3138, 'shave': 3139, 'plaid': 3140, 'necktie': 3141, 'them\\x02selves': 3142, 'paraded': 3143, '6even': 3144, 'teasing': 3145, 'interrupted': 3146, \"�'\": 3147, 'slightest': 3148, 'fairs': 3149, 'spills': 3150, 'creep': 3151, 'trotters': 3152, 'pacers': 3153, 'spilled': 3154, 'trampled': 3155, 'foul': 3156, 'peanut': 3157, 'butter': 3158, 'sandwiches': 3159, 'cracker': 3160, 'crumbs': 3161, 'packed': 3162, 'glaring': 3163, 'veritable': 3164, 'popcorn': 3165, 'fragments': 3166, 'dribblings': 3167, 'abandoned': 3168, 'sugar': 3169, 'fluff': 3170, 'crystals': 3171, 'salted': 3172, 'almonds': 3173, 'popsicles': 3174, 'partially': 3175, 'cones': 3176, 'sticks': 3177, 'lolly\\x02pops': 3178, 'loot': 3179, 'tents': 3180, 'booths': 3181, 'lofts': 3182, 'disgusting': 3183, 'left\\x02over': 3184, 'satisfy': 3185, 'army': 3186, 'blazing': 3187, 'yarn': 3188, 'tempts': 3189, 'conditions': 3190, 'surpass': 3191, 'wildest': 3192, 'sour': 3193, 'mash': 3194, 'tuna': 3195, 'greasy': 3196, 'bags': 3197, 'winking': 3198, 'ourselves': 3199, 'waste': 3200, 'scampered': 3201, 'slats': 3202, 'hid': 3203, 'cargo': 3204, \"'zuckerman's\": 3205, \"stowaways'\": 3206, 'tussle': 3207, 're\\x02sist': 3208, 'diny': 3209, 'resisting': 3210, 'bewitched': 3211, \"he'd\": 3212, 'pummeled': 3213, 'squashed': 3214, 'buffeted': 3215, 'bruised': 3216, 'lacerated': 3217, 'scarred': 3218, 'bi': 3219, 'ffed': 3220, 'beau\\x02tiful': 3221, 'al\\x02ready': 3222, 'contained': 3223, 'remembering': 3224, 'helped': 3225, 'kneel': 3226, 'fading': 3227, 'fours': 3228, 'foot': 3229, 'fantastic': 3230, 'crea\\x02tures': 3231, 'instant': 3232, 'tossing': 3233, 'handfuls': 3234, \"driver's\": 3235, 'emergency': 3236, 'brake': 3237, 'her\\x02self': 3238, 'sunstroke': 3239, 'qui': 3240, 'ut': 3241, 'brimming': 3242, 'thrashed': 3243, 'pressing': 3244, 'knee': 3245, 'final': 3246, 'heave': 3247, 'jammed': 3248, 'beside': 3249, 'lurvyand': 3250, 'rode': 3251, 'hang\\x02ing': 3252, 'dust': 3253, 'sprinkling': 3254, 'cart': 3255, 'moistened': 3256, 'hamburgers': 3257, 'frying': 3258, 'bal\\x02loons': 3259, 'blatting': 3260, 'pens': 3261, 'loudspeaker': 3262, 'owner': 3263, 'pontiac': 3264, 'license': 3265, 'h': 3266, '2439': 3267, 'steer': 3268, 'jet': 3269, 'plane': 3270, 'cheeseburger': 3271, 'soda': 3272, 'sug\\x02gested': 3273, 'quarters': 3274, 'nickels': 3275, 'stomachs': 3276, 'overheated': 3277, 'pickpockets': 3278, 'cautioned': 3279, 'fa\\x02ther': 3280, 'direction': 3281, 'adven\\x02ture': 3282, 'guard': 3283, 'guide': 3284, \"they've\": 3285, 'fa\\x02mous': 3286, 'grassy': 3287, 'shaded': 3288, 'post': 3289, 'wishing': 3290, 'day\\x02light': 3291, 'purebred': 3292, 'tractors': 3293, 'hop\\x02ing': 3294, 'older': 3295, 'di\\x02rectly': 3296, 'drag\\x02line': 3297, 'politely': 3298, 'hearty': 3299, \"unclel'\": 3300, 'date': 3301, 'chicken': 3302, 'eh': 3303, 'mildly': 3304, 'funnier': 3305, 'ascended': 3306, 'claims': 3307, 'reported': 3308, 'certain': 3309, 'unattractive': 3310, 'personality': 3311, 'cracks': 3312, 'jokes': 3313, 'nor': 3314, 'dis\\x02like': 3315, 'interview': 3316, 'tires': 3317, 'swol\\x02len': 3318, 'listless': 3319, 'poorly': 3320, 'couple': 3321, 'wearily': 3322, 'upside': 3323, 'wor\\x02ried': 3324, 'strangers': 3325, 'stare': 3326, 'silky': 3327, 'favorable': 3328, 'overhearing': 3329, 'fiercely': 3330, 'noon': 3331, 'arms': 3332, 'cracker\\x02jack': 3333, 'chew\\x02ing': 3334, 'advenisement': 3335, 'decide': 3336, 'tent': 3337, 'dark\\x02ened': 3338, 'keen': 3339, 'detected': 3340, 'disap\\x02peared': 3341, 'wel\\x02come': 3342, 'lighted': 3343, 'crackle': 3344, 'gambling': 3345, 'machines': 3346, 'beano': 3347, 'numbers': 3348, 'refreshed': 3349, 'ticket': 3350, 'cost': 3351, 'starry': 3352, 'folded': 3353, 'leftovers': 3354, 'deviled': 3355, 'swiss': 3356, 'core': 3357, 'wormy': 3358, 'unrolling': 3359, \"'humble'\": 3360, 'meanings': 3361, \"'not\": 3362, \"proud'\": 3363, \"'near\": 3364, 'fetching': 3365, 'deliver': 3366, 'pa\\x02pers': 3367, 'helpful': 3368, 'drinking': 3369, 'every\\x02where': 3370, 'hunting': 3371, 'fare': 3372, 'thee': 3373, 'schemer': 3374, 'rock\\x02ets': 3375, 'scattering': 3376, 'fiery': 3377, 'balls': 3378, 'forkful': 3379, 'engine': 3380, 'homesick': 3381, 'dropping': 3382, 'b': 3383, 're': 3384, \"'e\": 3385, '�': 3386, 'cor\\x02ner': 3387, 'some\\x02h': 3388, 'usua': 3389, 'stir': 3390, 'crows': 3391, 'highway': 3392, 'masterpiece': 3393, 'breathing': 3394, 'sleeping': 3395, 'peacefully': 3396, 'canned': 3397, 'peaches': 3398, 'events': 3399, 'tucking': 3400, 'ext': 3401, 'rattled': 3402, 'crowed': 3403, 'automobiles': 3404, 'whispering': 3405, 'curious': 3406, 'cocoon': 3407, 'peach': 3408, 'colored': 3409, 'nifty': 3410, 'latin': 3411, \"'great\": 3412, 'finest': 3413, 'counted': 3414, 'counting': 3415, 'occupied': 3416, 'patting': 3417, 'guarantee': 3418, 'toughest': 3419, \"'·'\": 3420, 'hearted': 3421, 'pep': 3422, 'efforts': 3423, 'languishing': 3424, 'languish': 3425, 'asking': 3426, \"'languishing'\": 3427, 'slowing': 3428, 'plain': 3429, 'designing': 3430, 'marvel\\x02ing': 3431, 'pair': 3432, 'husky': 3433, 'hoarsely': 3434, 'feast\\x02ing': 3435, 'carousing': 3436, 'lunches': 3437, 'leav\\x02ings': 3438, 'ripened': 3439, 'seasoned': 3440, 'ashamed': 3441, 'serve': 3442, 'acute': 3443, 'attack': 3444, 'indigestion': 3445, 'relax': 3446, 'further\\x02more': 3447, 'changes': 3448, 'hankering': 3449, 'pork': 3450, 'knife': 3451, 'bloated': 3452, 'subject': 3453, \"weren't\": 3454, 'dopey': 3455, 'become': 3456, 'infor\\x02mation': 3457, 'peachy': 3458, 'eyeing': 3459, 'suspi\\x02ciously': 3460, 'rejoiced': 3461, 'lovingly': 3462, 'winked': 3463, 'loud\\x02so': 3464, 'stableboys': 3465, 'handker\\x02chief': 3466, 'gallon': 3467, 'trickled': 3468, 'passersby': 3469, 'bystander': 3470, 'cleaner': 3471, 'woman': 3472, 'attend': 3473, 'report': 3474, 'handful': 3475, 'fluttered': 3476, 'confetti': 3477, 'ara\\x02ble': 3478, 'unseen': 3479, 'encircling': 3480, 'strongly': 3481, 'weary': 3482, 'con\\x02tented': 3483, 'boosted': 3484, \"judge's\": 3485, 'topmost': 3486, 'pompous': 3487, 'pleasure': 3488, 'presenting': 3489, 'bearing': 3490, 'extraordinary': 3491, 'ap\\x02proaching': 3492, 'moments': 3493, 'judging': 3494, 'irt': 3495, 'surrounded': 3496, 'jomped': 3497, 'unload': 3498, 'sev\\x02eral': 3499, 'busiest': 3500, 'helper': 3501, 'tuck': 3502, 'shin': 3503, 'tighten': 3504, 'belt': 3505, 'pants': 3506, 'pointing': 3507, 'shout': 3508, 'handbag': 3509, 'fony': 3510, 'cents': 3511, 'ducking': 3512, 'search': 3513, 'boomed': 3514, 'embraced': 3515, 'courage': 3516, 'triumph': 3517, 'clapped': 3518, 'bowed': 3519, 'sweat': 3520, 'strok\\x02ing': 3521, 'present': 3522, 'distinguished': 3523, 'unique': 3524, 'corners': 3525, 'tour\\x02ists': 3526, 'recall': 3527, 'mysteriously': 3528, 'ir': 3529, 'sundry': 3530, 'ex\\x02plained': 3531, 'study': 3532, 'phenomenon': 3533, 'analysis': 3534, 'dealing': 3535, 'supernatural': 3536, 'forces': 3537, 'magnificent': 3538, 'smoothness': 3539, 'whiteness': 3540, 'spotless': 3541, 'healthy': 3542, 're\\x02member': 3543, \"'radiant'\": 3544, 'whence': 3545, 'mysterious': 3546, 'needless': 3547, 'behalf': 3548, 'governors': 3549, 'awarding': 3550, 'bronze': 3551, 'suitably': 3552, 'engraved': 3553, 'token': 3554, 'complimentary': 3555, 'clap': 3556, 'collapsed': 3557, 'blank': 3558, 'unconscious': 3559, 'kneeling': 3560, 'stroking': 3561, 'spells': 3562, 'embarrassed': 3563, 'within': 3564, 'tend': 3565, 'bite': 3566, 'revived': 3567, 'flash': 3568, 'ouch': 3569, 'hoorray': 3570, 'bills': 3571, 'judge': 3572, 'picture': 3573, 'swept': 3574, 'zucker\\x02mans': 3575, 'greatest': 3576, 'satisfying': 3577, 'charging': 3578, 'hesi\\x02tating': 3579, 'aim': 3580, 'soaking': 3581, \"goodness'\": 3582, 'sake': 3583, 'bellowed': 3584, 'drenched': 3585, 'ails': 3586, 'roared': 3587, 'laughter': 3588, 'tickled': 3589, 'pretended': 3590, 'armpits': 3591, 'applause': 3592, 'dis\\x02covered': 3593, 'calmed': 3594, 'driven': 3595, 'trousers': 3596, 'spot': 3597, 'families': 3598, 'strain': 3599, 'ceremony': 3600, 'degree': 3601, 'secure': 3602, 'shonen': 3603, 'shake': 3604, 'lengthen': 3605, 'melt': 3606, 'return': 3607, 'blow': 3608, 'recovered': 3609, 'emotion': 3610, 'gam': 3611, 'vvhy': 3612, 'deserve': 3613, 'tremendous': 3614, 'wove': 3615, 'trifle': 3616, 'heaven': 3617, 'speeches': 3618, 'gift': 3619, 'gladly': 3620, 'generous': 3621, 'sentiments': 3622, 'leapt': 3623, 'spin\\x02nerets': 3624, 'agony': 3625, 'sobs': 3626, 'racked': 3627, 'desolation': 3628, 'scene': 3629, 'ridiculous': 3630, 'desened': 3631, 'panic': 3632, 'approaching': 3633, 'tossed': 3634, 'monkeyshine': 3635, 'growled': 3636, 'popped': 3637, 'accompany': 3638, 'condition': 3639, 'necessary': 3640, 'straightened': 3641, 'rescue': 3642, 'lend': 3643, 'hu': 3644, 'ry': 3645, 'imitating': 3646, \"'hurry\": 3647, 'services': 3648, 'abuse': 3649, 'wisecracks': 3650, 'desperation': 3651, 'hean': 3652, 'forepaws': 3653, 'crossed': 3654, 'attitude': 3655, 'relaxation': 3656, 'mimicked': 3657, 'touch\\x02ing': 3658, 'breaking': 3659, 'cares': 3660, 'acting': 3661, 'spoiled': 3662, 'vhy': 3663, 'scaring': 3664, 'bless': 3665, 'soul': 3666, 'run\\x02ning': 3667, 'favors': 3668, 'ail': 3669, 'desperate': 3670, 'failing': 3671, \"empleton's\": 3672, 'fondness': 3673, 'solemn': 3674, 'groaning': 3675, 'bared': 3676, 'snipping': 3677, 'extreme': 3678, 'harmed': 3679, 'thith': 3680, 'thruff': 3681, 'thticks': 3682, \"lt'th\": 3683, 'caramel': 3684, 'job': 3685, 'man\\x02aged': 3686, 'adrift': 3687, 'sigh': 3688, 'mpleton': 3689, 'forget': 3690, 'neither': 3691, 'spool': 3692, 'zuck\\x02ennan': 3693, 'drool': 3694, 'summoned': 3695, 'vans': 3696, 'entertainers': 3697, 'pack\\x02ing': 3698, 'belongings': 3699, 'driving': 3700, 'trailers': 3701, 'sheds': 3702, 'buildings': 3703, 'forlorn': 3704, 'littered': 3705, 'homecoming': 3706, 'unborn': 3707, 'nail': 3708, 'examine': 3709, 'torn': 3710, 'lump': 3711, 'affec\\x02tionate': 3712, 'skillful': 3713, 'shorter': 3714, 'squashes': 3715, 'pumpkins': 3716, 'piled': 3717, 'nipped': 3718, 'frosty': 3719, 'maples': 3720, 'birches': 3721, 'colors': 3722, 'foxes': 3723, 'drifts': 3724, 'drag\\x02ging': 3725, 'sled': 3726, 'coasted': 3727, 'coasting': 3728, 'retoned': 3729, 'stops': 3730, 'everythij': 3731, 'tg': 3732, 'ago': 3733, 'thermometer': 3734, 'bleak': 3735, 'lee': 3736, 'protec\\x02tion': 3737, 'drug': 3738, 'store': 3739, 'turnips': 3740, 'cheerful': 3741, 'ratty': 3742, 'chilly': 3743, 'cozy': 3744, 'bins': 3745, 'newspapers': 3746, 'trinket': 3747, 'keepsake': 3748, 'stored': 3749, 'mealtime': 3750, 'mouthful': 3751, 'overeating': 3752, 'fatter': 3753, 'gigantic': 3754, 'woodchuck': 3755, 'eater': 3756, 'untold': 3757, 'satisfaction': 3758, 'pleasures': 3759, 'guarding': 3760, 'mattered': 3761, 'patiently': 3762, 'awaited': 3763, 'cocked': 3764, 'shrill': 3765, 'chorus': 3766, 'an\\x02other': 3767, 'melted': 3768, 'streams': 3769, 'ditches': 3770, 'bubbled': 3771, 'chattered': 3772, 'rushing': 3773, 'streaky': 3774, 'breast': 3775, 'strengthened': 3776, 'sooner': 3777, 'wider': 3778, 'remaining': 3779, 'floated': 3780, 'thinl': 3781, 'ing': 3782, 'sand': 3783, 'pin': 3784, 'black': 3785, 'stripe': 3786, 'tan': 3787, 'pounded': 3788, 'squeal': 3789, 'circles': 3790, 'kicking': 3791, 'planted': 3792, 'forelegs': 3793, \"'humpty\": 3794, 'arowld': 3795, 'trailing': 3796, 'draglines': 3797, 'count': 3798, 'bb': 3799, 'shot': 3800, 'draft': 3801, 'spruce': 3802, 'cloud': 3803, 'frantic': 3804, 'babies': 3805, 'disappearing': 3806, 'forth': 3807, 'aeronauts': 3808, 'our\\x02selves': 3809, 'wherever': 3810, 'west': 3811, 'mist': 3812, 'circling': 3813, 'drift\\x02ing': 3814, 'gentle': 3815, 'cries': 3816, 'drearily': 3817, 'stay\\x02ing': 3818, 'definitely': 3819, 'initial': 3820, 'dumb': 3821, 'daintily': 3822, 'brimmed': 3823, 'impor\\x02tant': 3824, 'chosen': 3825, 'hallowed': 3826, 'devoted': 3827, 'owe': 3828, 'brilliant': 3829, 'memory': 3830, 'gnat': 3831, 'tranquil': 3832, 'growing': 3833, 'careful': 3834, 'hatching': 3835, 'housekeeping': 3836, 'admirers': 3837, 'tri\\x02umph': 3838, 'garrulous': 3839, 'seasons': 3840, 'nearness': 3841, 'sameness': 3842, 'glory': 3843, 'dearly': 3844, 'class': 3845, 'writer': 3846}\n",
            "3847\n"
          ]
        }
      ]
    },
    {
      "cell_type": "code",
      "metadata": {
        "id": "SJlU32DJB9J2"
      },
      "source": [
        "input_sequences = [] # create empty sequences\n",
        "for line in corpus:\n",
        "\ttoken_list = tokenizer.texts_to_sequences([line])[0] #for each line of the corpus, create list of tokens.\n",
        "\tfor i in range(1, len(token_list)):\n",
        "\t\tn_gram_sequence = token_list[:i+1]\n",
        "\t\tinput_sequences.append(n_gram_sequence) # generate n-gram of token_list\n",
        " \n",
        "max_sequence_len = max([len(x) for x in input_sequences])\n",
        "input_sequences = np.array(pad_sequences(input_sequences, maxlen=max_sequence_len, padding='pre')) # pad sequences beginning with 0\n",
        "\n",
        "xs, labels = input_sequences[:,:-1],input_sequences[:,-1]\n",
        "ys = tf.keras.utils.to_categorical(labels, num_classes=total_words) # create predictors and label, categorical"
      ],
      "execution_count": null,
      "outputs": []
    },
    {
      "cell_type": "code",
      "metadata": {
        "id": "BgNrc2OWCCH9"
      },
      "source": [
        "#print(tokenizer.word_index['in'])\n",
        "#print(tokenizer.word_index['the'])\n",
        "#print(tokenizer.word_index['town'])\n",
        "#print(tokenizer.word_index['of'])\n",
        "#print(tokenizer.word_index['athy'])\n",
        "#print(tokenizer.word_index['one'])\n",
        "#print(tokenizer.word_index['jeremy'])\n",
        "#print(tokenizer.word_index['lanigan'])"
      ],
      "execution_count": null,
      "outputs": []
    },
    {
      "cell_type": "code",
      "metadata": {
        "id": "jOhL4CtGCEHt",
        "colab": {
          "base_uri": "https://localhost:8080/"
        },
        "outputId": "33344583-6c94-4faa-901a-67967951bcc9"
      },
      "source": [
        "model = Sequential()\n",
        "model.add(Embedding(total_words, 100, input_length=max_sequence_len-1)) #set up of embedding layer\n",
        "model.add(Bidirectional(LSTM(150))) \n",
        "model.add(Dense(total_words, activation='softmax'))\n",
        "adam = Adam(learning_rate=0.0003)\n",
        "model.compile(loss='categorical_crossentropy', optimizer=adam, metrics=['accuracy'])\n",
        "#earlystop = EarlyStopping(monitor='val_loss', min_delta=0, patience=5, verbose=0, mode='auto')\n",
        "history = model.fit(xs, ys, epochs=120, verbose=1)\n",
        "\n",
        "print(model) #print model.summary()"
      ],
      "execution_count": null,
      "outputs": [
        {
          "output_type": "stream",
          "name": "stdout",
          "text": [
            "Epoch 1/120\n",
            "911/911 [==============================] - 106s 113ms/step - loss: 6.8362 - accuracy: 0.0557\n",
            "Epoch 2/120\n",
            "911/911 [==============================] - 101s 111ms/step - loss: 6.1712 - accuracy: 0.0725\n",
            "Epoch 3/120\n",
            "911/911 [==============================] - 101s 111ms/step - loss: 5.9513 - accuracy: 0.0832\n",
            "Epoch 4/120\n",
            "911/911 [==============================] - 101s 111ms/step - loss: 5.7555 - accuracy: 0.0964\n",
            "Epoch 5/120\n",
            "911/911 [==============================] - 101s 111ms/step - loss: 5.5596 - accuracy: 0.1141\n",
            "Epoch 6/120\n",
            "911/911 [==============================] - 101s 111ms/step - loss: 5.4149 - accuracy: 0.1237\n",
            "Epoch 7/120\n",
            "911/911 [==============================] - 104s 114ms/step - loss: 5.3055 - accuracy: 0.1313\n",
            "Epoch 8/120\n",
            "911/911 [==============================] - 102s 112ms/step - loss: 5.1505 - accuracy: 0.1403\n",
            "Epoch 9/120\n",
            "911/911 [==============================] - 103s 113ms/step - loss: 5.0271 - accuracy: 0.1456\n",
            "Epoch 10/120\n",
            "911/911 [==============================] - 102s 112ms/step - loss: 4.8977 - accuracy: 0.1565\n",
            "Epoch 11/120\n",
            "911/911 [==============================] - 102s 112ms/step - loss: 4.7933 - accuracy: 0.1608\n",
            "Epoch 12/120\n",
            "911/911 [==============================] - 102s 112ms/step - loss: 4.7172 - accuracy: 0.1662\n",
            "Epoch 13/120\n",
            "911/911 [==============================] - 104s 114ms/step - loss: 4.5954 - accuracy: 0.1715\n",
            "Epoch 14/120\n",
            "911/911 [==============================] - 102s 112ms/step - loss: 4.5003 - accuracy: 0.1790\n",
            "Epoch 15/120\n",
            "911/911 [==============================] - 103s 113ms/step - loss: 4.3900 - accuracy: 0.1870\n",
            "Epoch 16/120\n",
            "911/911 [==============================] - 102s 112ms/step - loss: 4.2883 - accuracy: 0.1932\n",
            "Epoch 17/120\n",
            "911/911 [==============================] - 102s 112ms/step - loss: 4.2110 - accuracy: 0.2002\n",
            "Epoch 18/120\n",
            "911/911 [==============================] - 102s 112ms/step - loss: 4.0991 - accuracy: 0.2063\n",
            "Epoch 19/120\n",
            "911/911 [==============================] - 104s 115ms/step - loss: 4.0048 - accuracy: 0.2182\n",
            "Epoch 20/120\n",
            "911/911 [==============================] - 102s 112ms/step - loss: 3.9068 - accuracy: 0.2313\n",
            "Epoch 21/120\n",
            "911/911 [==============================] - 102s 112ms/step - loss: 3.7752 - accuracy: 0.2497\n",
            "Epoch 22/120\n",
            "911/911 [==============================] - 103s 113ms/step - loss: 3.6718 - accuracy: 0.2625\n",
            "Epoch 23/120\n",
            "911/911 [==============================] - 102s 112ms/step - loss: 3.5922 - accuracy: 0.2705\n",
            "Epoch 24/120\n",
            "911/911 [==============================] - 103s 113ms/step - loss: 3.4677 - accuracy: 0.2892\n",
            "Epoch 25/120\n",
            "911/911 [==============================] - 103s 113ms/step - loss: 3.3800 - accuracy: 0.3014\n",
            "Epoch 26/120\n",
            "911/911 [==============================] - 102s 112ms/step - loss: 3.3000 - accuracy: 0.3148\n",
            "Epoch 27/120\n",
            "911/911 [==============================] - 103s 113ms/step - loss: 3.2159 - accuracy: 0.3286\n",
            "Epoch 28/120\n",
            "911/911 [==============================] - 102s 112ms/step - loss: 3.1421 - accuracy: 0.3427\n",
            "Epoch 29/120\n",
            "911/911 [==============================] - 102s 112ms/step - loss: 3.0585 - accuracy: 0.3569\n",
            "Epoch 30/120\n",
            "911/911 [==============================] - 102s 112ms/step - loss: 2.9873 - accuracy: 0.3666\n",
            "Epoch 31/120\n",
            "911/911 [==============================] - 103s 113ms/step - loss: 2.9236 - accuracy: 0.3748\n",
            "Epoch 32/120\n",
            "911/911 [==============================] - 102s 112ms/step - loss: 2.8542 - accuracy: 0.3958\n",
            "Epoch 33/120\n",
            "911/911 [==============================] - 103s 113ms/step - loss: 2.7952 - accuracy: 0.4005\n",
            "Epoch 34/120\n",
            "911/911 [==============================] - 103s 113ms/step - loss: 2.7208 - accuracy: 0.4151\n",
            "Epoch 35/120\n",
            "911/911 [==============================] - 102s 112ms/step - loss: 2.6784 - accuracy: 0.4242\n",
            "Epoch 36/120\n",
            "911/911 [==============================] - 102s 112ms/step - loss: 2.6175 - accuracy: 0.4407\n",
            "Epoch 37/120\n",
            "911/911 [==============================] - 102s 112ms/step - loss: 2.5590 - accuracy: 0.4469\n",
            "Epoch 38/120\n",
            "911/911 [==============================] - 103s 113ms/step - loss: 2.4808 - accuracy: 0.4602\n",
            "Epoch 39/120\n",
            "911/911 [==============================] - 102s 112ms/step - loss: 2.4348 - accuracy: 0.4668\n",
            "Epoch 40/120\n",
            "911/911 [==============================] - 103s 113ms/step - loss: 2.3970 - accuracy: 0.4744\n",
            "Epoch 41/120\n",
            "911/911 [==============================] - 102s 112ms/step - loss: 2.3570 - accuracy: 0.4851\n",
            "Epoch 42/120\n",
            "911/911 [==============================] - 103s 113ms/step - loss: 2.2887 - accuracy: 0.4977\n",
            "Epoch 43/120\n",
            "911/911 [==============================] - 102s 112ms/step - loss: 2.2436 - accuracy: 0.5078\n",
            "Epoch 44/120\n",
            "911/911 [==============================] - 102s 112ms/step - loss: 2.1854 - accuracy: 0.5198\n",
            "Epoch 45/120\n",
            "911/911 [==============================] - 102s 112ms/step - loss: 2.1466 - accuracy: 0.5292\n",
            "Epoch 46/120\n",
            "911/911 [==============================] - 102s 112ms/step - loss: 2.0947 - accuracy: 0.5419\n",
            "Epoch 47/120\n",
            "911/911 [==============================] - 102s 112ms/step - loss: 2.0480 - accuracy: 0.5534\n",
            "Epoch 48/120\n",
            "911/911 [==============================] - 102s 112ms/step - loss: 2.0090 - accuracy: 0.5536\n",
            "Epoch 49/120\n",
            "911/911 [==============================] - 102s 112ms/step - loss: 1.9631 - accuracy: 0.5686\n",
            "Epoch 50/120\n",
            "911/911 [==============================] - 102s 112ms/step - loss: 1.9071 - accuracy: 0.5814\n",
            "Epoch 51/120\n",
            "911/911 [==============================] - 102s 112ms/step - loss: 1.8588 - accuracy: 0.5895\n",
            "Epoch 52/120\n",
            "911/911 [==============================] - 102s 112ms/step - loss: 1.8320 - accuracy: 0.5925\n",
            "Epoch 53/120\n",
            "911/911 [==============================] - 102s 112ms/step - loss: 1.8057 - accuracy: 0.6014\n",
            "Epoch 54/120\n",
            "911/911 [==============================] - 102s 112ms/step - loss: 1.7572 - accuracy: 0.6128\n",
            "Epoch 55/120\n",
            "911/911 [==============================] - 102s 112ms/step - loss: 1.7134 - accuracy: 0.6232\n",
            "Epoch 56/120\n",
            "911/911 [==============================] - 102s 112ms/step - loss: 1.6869 - accuracy: 0.6278\n",
            "Epoch 57/120\n",
            "911/911 [==============================] - 102s 112ms/step - loss: 1.6502 - accuracy: 0.6372\n",
            "Epoch 58/120\n",
            "911/911 [==============================] - 102s 112ms/step - loss: 1.6115 - accuracy: 0.6443\n",
            "Epoch 59/120\n",
            "911/911 [==============================] - 102s 113ms/step - loss: 1.5480 - accuracy: 0.6641\n",
            "Epoch 60/120\n",
            "911/911 [==============================] - 103s 113ms/step - loss: 1.5424 - accuracy: 0.6644\n",
            "Epoch 61/120\n",
            "911/911 [==============================] - 103s 113ms/step - loss: 1.5025 - accuracy: 0.6728\n",
            "Epoch 62/120\n",
            "911/911 [==============================] - 103s 113ms/step - loss: 1.4665 - accuracy: 0.6803\n",
            "Epoch 63/120\n",
            "911/911 [==============================] - 103s 113ms/step - loss: 1.4223 - accuracy: 0.6896\n",
            "Epoch 64/120\n",
            "911/911 [==============================] - 103s 113ms/step - loss: 1.4041 - accuracy: 0.6922\n",
            "Epoch 65/120\n",
            "911/911 [==============================] - 103s 113ms/step - loss: 1.3714 - accuracy: 0.7031\n",
            "Epoch 66/120\n",
            "911/911 [==============================] - 103s 113ms/step - loss: 1.3348 - accuracy: 0.7097\n",
            "Epoch 67/120\n",
            "911/911 [==============================] - 103s 113ms/step - loss: 1.3184 - accuracy: 0.7148\n",
            "Epoch 68/120\n",
            "911/911 [==============================] - 102s 112ms/step - loss: 1.2854 - accuracy: 0.7215\n",
            "Epoch 69/120\n",
            "911/911 [==============================] - 103s 113ms/step - loss: 1.2386 - accuracy: 0.7320\n",
            "Epoch 70/120\n",
            "911/911 [==============================] - 102s 112ms/step - loss: 1.2439 - accuracy: 0.7325\n",
            "Epoch 71/120\n",
            "911/911 [==============================] - 102s 112ms/step - loss: 1.2008 - accuracy: 0.7398\n",
            "Epoch 72/120\n",
            "911/911 [==============================] - 102s 112ms/step - loss: 1.1738 - accuracy: 0.7465\n",
            "Epoch 73/120\n",
            "911/911 [==============================] - 103s 113ms/step - loss: 1.1450 - accuracy: 0.7521\n",
            "Epoch 74/120\n",
            "911/911 [==============================] - 102s 112ms/step - loss: 1.1280 - accuracy: 0.7555\n",
            "Epoch 75/120\n",
            "911/911 [==============================] - 102s 112ms/step - loss: 1.1063 - accuracy: 0.7623\n",
            "Epoch 76/120\n",
            "911/911 [==============================] - 103s 113ms/step - loss: 1.0800 - accuracy: 0.7681\n",
            "Epoch 77/120\n",
            "911/911 [==============================] - 102s 112ms/step - loss: 1.0593 - accuracy: 0.7705\n",
            "Epoch 78/120\n",
            "911/911 [==============================] - 102s 112ms/step - loss: 1.0256 - accuracy: 0.7801\n",
            "Epoch 79/120\n",
            "911/911 [==============================] - 103s 113ms/step - loss: 1.0216 - accuracy: 0.7804\n",
            "Epoch 80/120\n",
            "911/911 [==============================] - 102s 112ms/step - loss: 0.9904 - accuracy: 0.7856\n",
            "Epoch 81/120\n",
            "911/911 [==============================] - 102s 112ms/step - loss: 0.9606 - accuracy: 0.7947\n",
            "Epoch 82/120\n",
            "911/911 [==============================] - 103s 113ms/step - loss: 0.9483 - accuracy: 0.7968\n",
            "Epoch 83/120\n",
            "911/911 [==============================] - 102s 112ms/step - loss: 0.9379 - accuracy: 0.7966\n",
            "Epoch 84/120\n",
            "911/911 [==============================] - 103s 113ms/step - loss: 0.9093 - accuracy: 0.8074\n",
            "Epoch 85/120\n",
            "911/911 [==============================] - 103s 113ms/step - loss: 0.8876 - accuracy: 0.8096\n",
            "Epoch 86/120\n",
            "911/911 [==============================] - 102s 112ms/step - loss: 0.8476 - accuracy: 0.8211\n",
            "Epoch 87/120\n",
            "911/911 [==============================] - 103s 113ms/step - loss: 0.8452 - accuracy: 0.8214\n",
            "Epoch 88/120\n",
            "911/911 [==============================] - 103s 113ms/step - loss: 0.8240 - accuracy: 0.8244\n",
            "Epoch 89/120\n",
            "911/911 [==============================] - 103s 113ms/step - loss: 0.8222 - accuracy: 0.8250\n",
            "Epoch 90/120\n",
            "911/911 [==============================] - 103s 113ms/step - loss: 0.7884 - accuracy: 0.8330\n",
            "Epoch 91/120\n",
            "911/911 [==============================] - 103s 113ms/step - loss: 0.7912 - accuracy: 0.8302\n",
            "Epoch 92/120\n",
            "911/911 [==============================] - 103s 113ms/step - loss: 0.7634 - accuracy: 0.8347\n",
            "Epoch 93/120\n",
            "911/911 [==============================] - 103s 113ms/step - loss: 0.7452 - accuracy: 0.8416\n",
            "Epoch 94/120\n",
            "911/911 [==============================] - 103s 113ms/step - loss: 0.7403 - accuracy: 0.8410\n",
            "Epoch 95/120\n",
            "911/911 [==============================] - 103s 113ms/step - loss: 0.7130 - accuracy: 0.8474\n",
            "Epoch 96/120\n",
            "911/911 [==============================] - 102s 112ms/step - loss: 0.7012 - accuracy: 0.8479\n",
            "Epoch 97/120\n",
            "911/911 [==============================] - 103s 113ms/step - loss: 0.6897 - accuracy: 0.8534\n",
            "Epoch 98/120\n",
            "911/911 [==============================] - 103s 113ms/step - loss: 0.6721 - accuracy: 0.8560\n",
            "Epoch 99/120\n",
            "911/911 [==============================] - 103s 113ms/step - loss: 0.6678 - accuracy: 0.8550\n",
            "Epoch 100/120\n",
            "911/911 [==============================] - 103s 113ms/step - loss: 0.6528 - accuracy: 0.8590\n",
            "Epoch 101/120\n",
            "911/911 [==============================] - 103s 113ms/step - loss: 0.6277 - accuracy: 0.8651\n",
            "Epoch 102/120\n",
            "911/911 [==============================] - 103s 113ms/step - loss: 0.6313 - accuracy: 0.8624\n",
            "Epoch 103/120\n",
            "911/911 [==============================] - 103s 113ms/step - loss: 0.6068 - accuracy: 0.8686\n",
            "Epoch 104/120\n",
            "911/911 [==============================] - 103s 113ms/step - loss: 0.6166 - accuracy: 0.8633\n",
            "Epoch 105/120\n",
            "911/911 [==============================] - 103s 113ms/step - loss: 0.5866 - accuracy: 0.8712\n",
            "Epoch 106/120\n",
            "911/911 [==============================] - 103s 113ms/step - loss: 0.5772 - accuracy: 0.8721\n",
            "Epoch 107/120\n",
            "911/911 [==============================] - 103s 113ms/step - loss: 0.5667 - accuracy: 0.8747\n",
            "Epoch 108/120\n",
            "911/911 [==============================] - 103s 113ms/step - loss: 0.5615 - accuracy: 0.8768\n",
            "Epoch 109/120\n",
            "911/911 [==============================] - 103s 113ms/step - loss: 0.5526 - accuracy: 0.8775\n",
            "Epoch 110/120\n",
            "911/911 [==============================] - 103s 113ms/step - loss: 0.5477 - accuracy: 0.8763\n",
            "Epoch 111/120\n",
            "911/911 [==============================] - 103s 113ms/step - loss: 0.5397 - accuracy: 0.8801\n",
            "Epoch 112/120\n",
            "911/911 [==============================] - 103s 113ms/step - loss: 0.5230 - accuracy: 0.8809\n",
            "Epoch 113/120\n",
            "911/911 [==============================] - 103s 113ms/step - loss: 0.5067 - accuracy: 0.8860\n",
            "Epoch 114/120\n",
            "911/911 [==============================] - 103s 113ms/step - loss: 0.5117 - accuracy: 0.8807\n",
            "Epoch 115/120\n",
            "911/911 [==============================] - 103s 113ms/step - loss: 0.5142 - accuracy: 0.8830\n",
            "Epoch 116/120\n",
            "911/911 [==============================] - 103s 113ms/step - loss: 0.5025 - accuracy: 0.8854\n",
            "Epoch 117/120\n",
            "911/911 [==============================] - 103s 113ms/step - loss: 0.4942 - accuracy: 0.8858\n",
            "Epoch 118/120\n",
            "911/911 [==============================] - 103s 113ms/step - loss: 0.4870 - accuracy: 0.8871\n",
            "Epoch 119/120\n",
            "911/911 [==============================] - 103s 114ms/step - loss: 0.4699 - accuracy: 0.8887\n",
            "Epoch 120/120\n",
            "911/911 [==============================] - 103s 113ms/step - loss: 0.4693 - accuracy: 0.8881\n",
            "<tensorflow.python.keras.engine.sequential.Sequential object at 0x7fddbdc457d0>\n"
          ]
        }
      ]
    },
    {
      "cell_type": "code",
      "metadata": {
        "id": "OJ4VNJhyHicw"
      },
      "source": [
        "import matplotlib.pyplot as plt\n",
        "\n",
        "\n",
        "def plot_graphs(history, string):\n",
        "  plt.plot(history.history[string])\n",
        "  plt.xlabel(\"Epochs\")\n",
        "  plt.ylabel(string)\n",
        "  plt.show()"
      ],
      "execution_count": null,
      "outputs": []
    },
    {
      "cell_type": "code",
      "metadata": {
        "id": "xSmSDlVFHmCp",
        "colab": {
          "base_uri": "https://localhost:8080/",
          "height": 279
        },
        "outputId": "dfd9f1ae-c5cd-44e7-d5d8-208f0ff37d5e"
      },
      "source": [
        "plot_graphs(history, 'accuracy')"
      ],
      "execution_count": null,
      "outputs": [
        {
          "output_type": "display_data",
          "data": {
            "image/png": "[encoded data removed]",
            "text/plain": [
              "<Figure size 432x288 with 1 Axes>"
            ]
          },
          "metadata": {
            "needs_background": "light"
          }
        }
      ]
    },
    {
      "cell_type": "code",
      "metadata": {
        "id": "7yKbaUkZHptY",
        "colab": {
          "base_uri": "https://localhost:8080/"
        },
        "outputId": "737e9cb3-09b0-4f3a-8089-c1593880a546"
      },
      "source": [
        "seed_text = \"Humpty Dumpty sat on a wall,\"\n",
        "next_words = 700\n",
        "  \n",
        "for _ in range(next_words):\n",
        "\ttoken_list = tokenizer.texts_to_sequences([seed_text])[0]\n",
        "\ttoken_list = pad_sequences([token_list], maxlen=max_sequence_len-1, padding='pre')\n",
        "\tpredicted = model.predict_classes(token_list, verbose=0)\n",
        "\toutput_word = \"\"\n",
        "\tfor word, index in tokenizer.word_index.items():\n",
        "\t\tif index == predicted:\n",
        "\t\t\toutput_word = word\n",
        "\t\t\tbreak\n",
        "\tseed_text += \" \" + output_word\n",
        "print(seed_text)"
      ],
      "execution_count": null,
      "outputs": [
        {
          "output_type": "stream",
          "name": "stderr",
          "text": [
            "/usr/local/lib/python3.7/dist-packages/tensorflow/python/keras/engine/sequential.py:450: UserWarning: `model.predict_classes()` is deprecated and will be removed after 2021-01-01. Please use instead:* `np.argmax(model.predict(x), axis=-1)`,   if your model does multi-class classification   (e.g. if it uses a `softmax` last-layer activation).* `(model.predict(x) > 0.5).astype(\"int32\")`,   if your model does binary classification   (e.g. if it uses a `sigmoid` last-layer activation).\n",
            "  warnings.warn('`model.predict_classes()` is deprecated and '\n"
          ]
        },
        {
          "output_type": "stream",
          "name": "stdout",
          "text": [
            "Humpty Dumpty sat on a wall, pile in the pig wouldn't saw the words on the words up this was a little place on this days the way to be the end of the big little rushed to the front of eggs a little head gasped water over the fence stood on the top of the load meekly in the bottom corner of the top of the load of the top of the main hearted aranea nellie aranea in the top of the load and the big oats hearted words the big big ladies thank eggs eggs in the morning ol' bitterly meekly in the hay everybody in the big eggs which which which which which which to speak little are going of me and the way and now right back around the word the way the arables the little of us am the zuckermans lengthened the zuckermans praise up the top of the load and the top of the load meekly in the top gasped of water the top of corner nellie was a big grey ordered hearted story nellie he did not in the fair eggs are going to me there and do as a rat in a web he did you know did you are as well in the darkness corner and don't did to be a trough in the web nobody was in this in the eggs the little lines holding us the zero teaching of the eggs we'll oats that the spinning and a zuckennans and a sadness and a sadness will move a little thinks hearted story to the ground moment corner under the bam the zuckermans opened hay and the zuckermans stand will the spider's web yelled big of the fair eggs the little little thank everybody in the top of the load and the top of the load of the top of the load of the top of the load of the top of the load of the top of the load of the top of the top of the load meekly in the top of corner and the top of the load of the top of the top of the load of the top of the load of the top of the top gasped corner of the load and the top of the fence eggs a little of story oats nellie nellie gazed whisper de\u0002cided gently to the top of the ceiling sometimes a little grey action thank full from this the way stood on this the zuckermans stand up from the top hearted corner and the top of the load hay a way in a large eggs in words slip in the top gasped of water the spinning necessary fern the zuckermans opened hay and the hay would be a little drool water in the hay stand a large hearted the big eggs eggs everybody the big eggs eggs eggs in big to move a under he children were the little drool hearted raise the big oats hearted the zuckermans hearted oats that he were in the air and else templeton's trochanter the air else move very move and he were looking up on her he noticed the morning mrs zuckerman was glad to the ground under the air moment stood from a large spider's happened thank oats humpty dumpty in his head and he and his head slightly just not hour under humpty of his trough the trough was right from from the way and was the newborn of the zuckennans of the patella thank oats nellie in the load and the big hay would be something to speak up he said in the way he was at the top of the load yelled the fence on the top of the load and the fence meekly on the bottom meekly in the bottom aranea the patella supply nellie nellie nellie nellie were needed from humpty dumpty was in bed and she was not glad to be a she'll to j digging of the phenomenon in the web aranea nellie very needed and she was in hay and now her was like humpty dumpty to be the rattle of the machine as it was wann the end of the top of the top of corner and\n"
          ]
        }
      ]
    }
  ]
}